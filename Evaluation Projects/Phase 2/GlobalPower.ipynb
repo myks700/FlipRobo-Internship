{
 "cells": [
  {
   "cell_type": "markdown",
   "metadata": {
    "id": "Icw6EgMy7gSE"
   },
   "source": [
    "# Analyzing Global Power Plant Database  "
   ]
  },
  {
   "cell_type": "markdown",
   "metadata": {
    "id": "NBti5KB37gSE"
   },
   "source": [
    "Science one of the greatest invension is the electricity. It has many applications in our everyday life. It is used for lighting rooms, operating fans and household equipment such as electrical stoves, A/C and more. All of these give people warmth. Huge machines are operating in factories with the aid of electricity. Important items like food, fabric, paper and many other items are the result of electricity. The economic and overall infrastructure of a country depends on electricity."
   ]
  },
  {
   "cell_type": "markdown",
   "metadata": {
    "id": "PHXbu1IE7gSF"
   },
   "source": [
    "## Introduction"
   ]
  },
  {
   "cell_type": "markdown",
   "metadata": {
    "id": "kCRh1dsr7gSF"
   },
   "source": [
    "In this analysis, I am going to use a power plant dataset. The dataset contain information of verious type of power plant around the world such as thermal plants (e.g. coal, gas, oil, nuclear, biomass, waste, geothermal) and renewables (e.g. hydro, wind, solar). The database includes nearly 30,000 power plants from 164 countries. \n",
    "\n",
    "The database is accessible via the WRI Open Data Platform for download and use. https://datasets.wri.org/dataset/globalpowerplantdatabase or https://www.kaggle.com/georgeputhean/globalpowerplantdata\n"
   ]
  },
  {
   "cell_type": "code",
   "execution_count": 52,
   "metadata": {
    "colab": {
     "base_uri": "https://localhost:8080/",
     "height": 102
    },
    "executionInfo": {
     "elapsed": 7776,
     "status": "ok",
     "timestamp": 1601706743837,
     "user": {
      "displayName": "Najmol Anwar",
      "photoUrl": "https://lh3.googleusercontent.com/a-/AOh14GiqWjqj-fgAoK0nCy76LRgMtuvVpQVpTCr_5iB4=s64",
      "userId": "17913700304635692485"
     },
     "user_tz": -360
    },
    "id": "9HwAWzpt7iNJ",
    "outputId": "e90fe035-1100-42e9-aa7f-9d48a75cfbc1"
   },
   "outputs": [
    {
     "name": "stdout",
     "output_type": "stream",
     "text": [
      "Requirement already up-to-date: pandas in /usr/local/lib/python3.6/dist-packages (1.1.2)\n",
      "Requirement already satisfied, skipping upgrade: numpy>=1.15.4 in /usr/local/lib/python3.6/dist-packages (from pandas) (1.18.5)\n",
      "Requirement already satisfied, skipping upgrade: python-dateutil>=2.7.3 in /usr/local/lib/python3.6/dist-packages (from pandas) (2.8.1)\n",
      "Requirement already satisfied, skipping upgrade: pytz>=2017.2 in /usr/local/lib/python3.6/dist-packages (from pandas) (2018.9)\n",
      "Requirement already satisfied, skipping upgrade: six>=1.5 in /usr/local/lib/python3.6/dist-packages (from python-dateutil>=2.7.3->pandas) (1.15.0)\n"
     ]
    }
   ],
   "source": [
    "!pip install pandas --upgrade"
   ]
  },
  {
   "cell_type": "code",
   "execution_count": 53,
   "metadata": {
    "executionInfo": {
     "elapsed": 9381,
     "status": "ok",
     "timestamp": 1601706745444,
     "user": {
      "displayName": "Najmol Anwar",
      "photoUrl": "https://lh3.googleusercontent.com/a-/AOh14GiqWjqj-fgAoK0nCy76LRgMtuvVpQVpTCr_5iB4=s64",
      "userId": "17913700304635692485"
     },
     "user_tz": -360
    },
    "id": "xBhSeGUpACib"
   },
   "outputs": [],
   "source": [
    "!pip install jovian opendatasets --upgrade --quiet"
   ]
  },
  {
   "cell_type": "code",
   "execution_count": 54,
   "metadata": {
    "executionInfo": {
     "elapsed": 9380,
     "status": "ok",
     "timestamp": 1601706745444,
     "user": {
      "displayName": "Najmol Anwar",
      "photoUrl": "https://lh3.googleusercontent.com/a-/AOh14GiqWjqj-fgAoK0nCy76LRgMtuvVpQVpTCr_5iB4=s64",
      "userId": "17913700304635692485"
     },
     "user_tz": -360
    },
    "id": "GybArg6X7gSG"
   },
   "outputs": [],
   "source": [
    "import pandas as pd "
   ]
  },
  {
   "cell_type": "code",
   "execution_count": 55,
   "metadata": {
    "colab": {
     "base_uri": "https://localhost:8080/",
     "height": 68
    },
    "executionInfo": {
     "elapsed": 13067,
     "status": "ok",
     "timestamp": 1601706749136,
     "user": {
      "displayName": "Najmol Anwar",
      "photoUrl": "https://lh3.googleusercontent.com/a-/AOh14GiqWjqj-fgAoK0nCy76LRgMtuvVpQVpTCr_5iB4=s64",
      "userId": "17913700304635692485"
     },
     "user_tz": -360
    },
    "id": "O7yVTjLC_kNG",
    "outputId": "43245813-5689-4966-fbab-b0fb78ac3498"
   },
   "outputs": [
    {
     "name": "stdout",
     "output_type": "stream",
     "text": [
      "Kaggle dataset ID:  georgeputhean/globalpowerplantdata\n",
      "Using downloaded and verified file: ./globalpowerplantdata.zip\n",
      "Extracting archive ./globalpowerplantdata.zip to ./globalpowerplantdata\n"
     ]
    }
   ],
   "source": [
    "import opendatasets as od\n",
    "od.download('https://www.kaggle.com/georgeputhean/globalpowerplantdata')"
   ]
  },
  {
   "cell_type": "code",
   "execution_count": 56,
   "metadata": {
    "executionInfo": {
     "elapsed": 13066,
     "status": "ok",
     "timestamp": 1601706749136,
     "user": {
      "displayName": "Najmol Anwar",
      "photoUrl": "https://lh3.googleusercontent.com/a-/AOh14GiqWjqj-fgAoK0nCy76LRgMtuvVpQVpTCr_5iB4=s64",
      "userId": "17913700304635692485"
     },
     "user_tz": -360
    },
    "id": "VtgWZq3v7gSJ"
   },
   "outputs": [],
   "source": [
    "global_power_plant_raw_df = pd.read_csv('./globalpowerplantdata/global_power_plant_database.csv')"
   ]
  },
  {
   "cell_type": "markdown",
   "metadata": {
    "id": "wLuCEgxn7gSL"
   },
   "source": [
    "Using the read_csv() method, the \"Global Power Plant\" comma separated values (csv) file that was downloaded and save in the same directory converted into datafram.  "
   ]
  },
  {
   "cell_type": "code",
   "execution_count": 57,
   "metadata": {
    "colab": {
     "base_uri": "https://localhost:8080/",
     "height": 983
    },
    "executionInfo": {
     "elapsed": 13062,
     "status": "ok",
     "timestamp": 1601706749137,
     "user": {
      "displayName": "Najmol Anwar",
      "photoUrl": "https://lh3.googleusercontent.com/a-/AOh14GiqWjqj-fgAoK0nCy76LRgMtuvVpQVpTCr_5iB4=s64",
      "userId": "17913700304635692485"
     },
     "user_tz": -360
    },
    "id": "IigVVUOA7gSL",
    "outputId": "32b334ff-677f-46b8-fc8e-b32bf847bf0f"
   },
   "outputs": [
    {
     "data": {
      "text/html": [
       "<div>\n",
       "<style scoped>\n",
       "    .dataframe tbody tr th:only-of-type {\n",
       "        vertical-align: middle;\n",
       "    }\n",
       "\n",
       "    .dataframe tbody tr th {\n",
       "        vertical-align: top;\n",
       "    }\n",
       "\n",
       "    .dataframe thead th {\n",
       "        text-align: right;\n",
       "    }\n",
       "</style>\n",
       "<table border=\"1\" class=\"dataframe\">\n",
       "  <thead>\n",
       "    <tr style=\"text-align: right;\">\n",
       "      <th></th>\n",
       "      <th>country</th>\n",
       "      <th>country_long</th>\n",
       "      <th>name</th>\n",
       "      <th>gppd_idnr</th>\n",
       "      <th>capacity_mw</th>\n",
       "      <th>latitude</th>\n",
       "      <th>longitude</th>\n",
       "      <th>primary_fuel</th>\n",
       "      <th>other_fuel1</th>\n",
       "      <th>other_fuel2</th>\n",
       "      <th>other_fuel3</th>\n",
       "      <th>commissioning_year</th>\n",
       "      <th>owner</th>\n",
       "      <th>source</th>\n",
       "      <th>url</th>\n",
       "      <th>geolocation_source</th>\n",
       "      <th>wepp_id</th>\n",
       "      <th>year_of_capacity_data</th>\n",
       "      <th>generation_gwh_2013</th>\n",
       "      <th>generation_gwh_2014</th>\n",
       "      <th>generation_gwh_2015</th>\n",
       "      <th>generation_gwh_2016</th>\n",
       "      <th>generation_gwh_2017</th>\n",
       "      <th>estimated_generation_gwh</th>\n",
       "    </tr>\n",
       "  </thead>\n",
       "  <tbody>\n",
       "    <tr>\n",
       "      <th>0</th>\n",
       "      <td>AFG</td>\n",
       "      <td>Afghanistan</td>\n",
       "      <td>Kajaki Hydroelectric Power Plant Afghanistan</td>\n",
       "      <td>GEODB0040538</td>\n",
       "      <td>33.00</td>\n",
       "      <td>32.3220</td>\n",
       "      <td>65.1190</td>\n",
       "      <td>Hydro</td>\n",
       "      <td>NaN</td>\n",
       "      <td>NaN</td>\n",
       "      <td>NaN</td>\n",
       "      <td>NaN</td>\n",
       "      <td>NaN</td>\n",
       "      <td>GEODB</td>\n",
       "      <td>http://globalenergyobservatory.org</td>\n",
       "      <td>GEODB</td>\n",
       "      <td>1009793</td>\n",
       "      <td>2017.0</td>\n",
       "      <td>NaN</td>\n",
       "      <td>NaN</td>\n",
       "      <td>NaN</td>\n",
       "      <td>NaN</td>\n",
       "      <td>NaN</td>\n",
       "      <td>NaN</td>\n",
       "    </tr>\n",
       "    <tr>\n",
       "      <th>1</th>\n",
       "      <td>AFG</td>\n",
       "      <td>Afghanistan</td>\n",
       "      <td>Mahipar Hydroelectric Power Plant Afghanistan</td>\n",
       "      <td>GEODB0040541</td>\n",
       "      <td>66.00</td>\n",
       "      <td>34.5560</td>\n",
       "      <td>69.4787</td>\n",
       "      <td>Hydro</td>\n",
       "      <td>NaN</td>\n",
       "      <td>NaN</td>\n",
       "      <td>NaN</td>\n",
       "      <td>NaN</td>\n",
       "      <td>NaN</td>\n",
       "      <td>GEODB</td>\n",
       "      <td>http://globalenergyobservatory.org</td>\n",
       "      <td>GEODB</td>\n",
       "      <td>1009795</td>\n",
       "      <td>2017.0</td>\n",
       "      <td>NaN</td>\n",
       "      <td>NaN</td>\n",
       "      <td>NaN</td>\n",
       "      <td>NaN</td>\n",
       "      <td>NaN</td>\n",
       "      <td>NaN</td>\n",
       "    </tr>\n",
       "    <tr>\n",
       "      <th>2</th>\n",
       "      <td>AFG</td>\n",
       "      <td>Afghanistan</td>\n",
       "      <td>Naghlu Dam Hydroelectric Power Plant Afghanistan</td>\n",
       "      <td>GEODB0040534</td>\n",
       "      <td>100.00</td>\n",
       "      <td>34.6410</td>\n",
       "      <td>69.7170</td>\n",
       "      <td>Hydro</td>\n",
       "      <td>NaN</td>\n",
       "      <td>NaN</td>\n",
       "      <td>NaN</td>\n",
       "      <td>NaN</td>\n",
       "      <td>NaN</td>\n",
       "      <td>GEODB</td>\n",
       "      <td>http://globalenergyobservatory.org</td>\n",
       "      <td>GEODB</td>\n",
       "      <td>1009797</td>\n",
       "      <td>2017.0</td>\n",
       "      <td>NaN</td>\n",
       "      <td>NaN</td>\n",
       "      <td>NaN</td>\n",
       "      <td>NaN</td>\n",
       "      <td>NaN</td>\n",
       "      <td>NaN</td>\n",
       "    </tr>\n",
       "    <tr>\n",
       "      <th>3</th>\n",
       "      <td>AFG</td>\n",
       "      <td>Afghanistan</td>\n",
       "      <td>Nangarhar (Darunta) Hydroelectric Power Plant ...</td>\n",
       "      <td>GEODB0040536</td>\n",
       "      <td>11.55</td>\n",
       "      <td>34.4847</td>\n",
       "      <td>70.3633</td>\n",
       "      <td>Hydro</td>\n",
       "      <td>NaN</td>\n",
       "      <td>NaN</td>\n",
       "      <td>NaN</td>\n",
       "      <td>NaN</td>\n",
       "      <td>NaN</td>\n",
       "      <td>GEODB</td>\n",
       "      <td>http://globalenergyobservatory.org</td>\n",
       "      <td>GEODB</td>\n",
       "      <td>1009787</td>\n",
       "      <td>2017.0</td>\n",
       "      <td>NaN</td>\n",
       "      <td>NaN</td>\n",
       "      <td>NaN</td>\n",
       "      <td>NaN</td>\n",
       "      <td>NaN</td>\n",
       "      <td>NaN</td>\n",
       "    </tr>\n",
       "    <tr>\n",
       "      <th>4</th>\n",
       "      <td>AFG</td>\n",
       "      <td>Afghanistan</td>\n",
       "      <td>Northwest Kabul Power Plant Afghanistan</td>\n",
       "      <td>GEODB0040540</td>\n",
       "      <td>42.00</td>\n",
       "      <td>34.5638</td>\n",
       "      <td>69.1134</td>\n",
       "      <td>Gas</td>\n",
       "      <td>NaN</td>\n",
       "      <td>NaN</td>\n",
       "      <td>NaN</td>\n",
       "      <td>NaN</td>\n",
       "      <td>NaN</td>\n",
       "      <td>GEODB</td>\n",
       "      <td>http://globalenergyobservatory.org</td>\n",
       "      <td>GEODB</td>\n",
       "      <td>NaN</td>\n",
       "      <td>2017.0</td>\n",
       "      <td>NaN</td>\n",
       "      <td>NaN</td>\n",
       "      <td>NaN</td>\n",
       "      <td>NaN</td>\n",
       "      <td>NaN</td>\n",
       "      <td>NaN</td>\n",
       "    </tr>\n",
       "    <tr>\n",
       "      <th>...</th>\n",
       "      <td>...</td>\n",
       "      <td>...</td>\n",
       "      <td>...</td>\n",
       "      <td>...</td>\n",
       "      <td>...</td>\n",
       "      <td>...</td>\n",
       "      <td>...</td>\n",
       "      <td>...</td>\n",
       "      <td>...</td>\n",
       "      <td>...</td>\n",
       "      <td>...</td>\n",
       "      <td>...</td>\n",
       "      <td>...</td>\n",
       "      <td>...</td>\n",
       "      <td>...</td>\n",
       "      <td>...</td>\n",
       "      <td>...</td>\n",
       "      <td>...</td>\n",
       "      <td>...</td>\n",
       "      <td>...</td>\n",
       "      <td>...</td>\n",
       "      <td>...</td>\n",
       "      <td>...</td>\n",
       "      <td>...</td>\n",
       "    </tr>\n",
       "    <tr>\n",
       "      <th>29905</th>\n",
       "      <td>ZMB</td>\n",
       "      <td>Zambia</td>\n",
       "      <td>Ndola</td>\n",
       "      <td>WRI1022386</td>\n",
       "      <td>50.00</td>\n",
       "      <td>-12.9667</td>\n",
       "      <td>28.6333</td>\n",
       "      <td>Oil</td>\n",
       "      <td>NaN</td>\n",
       "      <td>NaN</td>\n",
       "      <td>NaN</td>\n",
       "      <td>NaN</td>\n",
       "      <td>ZESCO</td>\n",
       "      <td>Energy Regulation Board of Zambia</td>\n",
       "      <td>http://www.erb.org.zm/reports/EnergySectorRepo...</td>\n",
       "      <td>Power Africa</td>\n",
       "      <td>1089529</td>\n",
       "      <td>NaN</td>\n",
       "      <td>NaN</td>\n",
       "      <td>NaN</td>\n",
       "      <td>NaN</td>\n",
       "      <td>NaN</td>\n",
       "      <td>NaN</td>\n",
       "      <td>120.872642</td>\n",
       "    </tr>\n",
       "    <tr>\n",
       "      <th>29906</th>\n",
       "      <td>ZMB</td>\n",
       "      <td>Zambia</td>\n",
       "      <td>Nkana</td>\n",
       "      <td>WRI1022384</td>\n",
       "      <td>20.00</td>\n",
       "      <td>-12.8167</td>\n",
       "      <td>28.2000</td>\n",
       "      <td>Oil</td>\n",
       "      <td>NaN</td>\n",
       "      <td>NaN</td>\n",
       "      <td>NaN</td>\n",
       "      <td>NaN</td>\n",
       "      <td>ZESCO</td>\n",
       "      <td>Energy Regulation Board of Zambia</td>\n",
       "      <td>http://www.erb.org.zm/reports/EnergySectorRepo...</td>\n",
       "      <td>Power Africa</td>\n",
       "      <td>1043097</td>\n",
       "      <td>NaN</td>\n",
       "      <td>NaN</td>\n",
       "      <td>NaN</td>\n",
       "      <td>NaN</td>\n",
       "      <td>NaN</td>\n",
       "      <td>NaN</td>\n",
       "      <td>48.349057</td>\n",
       "    </tr>\n",
       "    <tr>\n",
       "      <th>29907</th>\n",
       "      <td>ZMB</td>\n",
       "      <td>Zambia</td>\n",
       "      <td>Victoria Falls</td>\n",
       "      <td>WRI1022380</td>\n",
       "      <td>108.00</td>\n",
       "      <td>-17.9167</td>\n",
       "      <td>25.8500</td>\n",
       "      <td>Hydro</td>\n",
       "      <td>NaN</td>\n",
       "      <td>NaN</td>\n",
       "      <td>NaN</td>\n",
       "      <td>NaN</td>\n",
       "      <td>ZESCO</td>\n",
       "      <td>Energy Regulation Board of Zambia</td>\n",
       "      <td>http://www.erb.org.zm/reports/EnergySectorRepo...</td>\n",
       "      <td>Power Africa</td>\n",
       "      <td>1033763</td>\n",
       "      <td>NaN</td>\n",
       "      <td>NaN</td>\n",
       "      <td>NaN</td>\n",
       "      <td>NaN</td>\n",
       "      <td>NaN</td>\n",
       "      <td>NaN</td>\n",
       "      <td>702.100000</td>\n",
       "    </tr>\n",
       "    <tr>\n",
       "      <th>29908</th>\n",
       "      <td>ZWE</td>\n",
       "      <td>Zimbabwe</td>\n",
       "      <td>Hwange Coal Power Plant Zimbabwe</td>\n",
       "      <td>GEODB0040404</td>\n",
       "      <td>920.00</td>\n",
       "      <td>-18.3835</td>\n",
       "      <td>26.4700</td>\n",
       "      <td>Coal</td>\n",
       "      <td>NaN</td>\n",
       "      <td>NaN</td>\n",
       "      <td>NaN</td>\n",
       "      <td>NaN</td>\n",
       "      <td>NaN</td>\n",
       "      <td>GEODB</td>\n",
       "      <td>http://globalenergyobservatory.org</td>\n",
       "      <td>GEODB</td>\n",
       "      <td>1033856</td>\n",
       "      <td>2017.0</td>\n",
       "      <td>NaN</td>\n",
       "      <td>NaN</td>\n",
       "      <td>NaN</td>\n",
       "      <td>NaN</td>\n",
       "      <td>NaN</td>\n",
       "      <td>4397.000000</td>\n",
       "    </tr>\n",
       "    <tr>\n",
       "      <th>29909</th>\n",
       "      <td>ZWE</td>\n",
       "      <td>Zimbabwe</td>\n",
       "      <td>Kariba Dam South Hydroelectric Power Station Z...</td>\n",
       "      <td>GEODB0003803</td>\n",
       "      <td>750.00</td>\n",
       "      <td>-16.5222</td>\n",
       "      <td>28.7619</td>\n",
       "      <td>Hydro</td>\n",
       "      <td>NaN</td>\n",
       "      <td>NaN</td>\n",
       "      <td>NaN</td>\n",
       "      <td>NaN</td>\n",
       "      <td>NaN</td>\n",
       "      <td>GEODB</td>\n",
       "      <td>http://globalenergyobservatory.org</td>\n",
       "      <td>GEODB</td>\n",
       "      <td>1033857</td>\n",
       "      <td>2017.0</td>\n",
       "      <td>NaN</td>\n",
       "      <td>NaN</td>\n",
       "      <td>NaN</td>\n",
       "      <td>NaN</td>\n",
       "      <td>NaN</td>\n",
       "      <td>5431.000000</td>\n",
       "    </tr>\n",
       "  </tbody>\n",
       "</table>\n",
       "<p>29910 rows × 24 columns</p>\n",
       "</div>"
      ],
      "text/plain": [
       "      country country_long  ... generation_gwh_2017 estimated_generation_gwh\n",
       "0         AFG  Afghanistan  ...                 NaN                      NaN\n",
       "1         AFG  Afghanistan  ...                 NaN                      NaN\n",
       "2         AFG  Afghanistan  ...                 NaN                      NaN\n",
       "3         AFG  Afghanistan  ...                 NaN                      NaN\n",
       "4         AFG  Afghanistan  ...                 NaN                      NaN\n",
       "...       ...          ...  ...                 ...                      ...\n",
       "29905     ZMB       Zambia  ...                 NaN               120.872642\n",
       "29906     ZMB       Zambia  ...                 NaN                48.349057\n",
       "29907     ZMB       Zambia  ...                 NaN               702.100000\n",
       "29908     ZWE     Zimbabwe  ...                 NaN              4397.000000\n",
       "29909     ZWE     Zimbabwe  ...                 NaN              5431.000000\n",
       "\n",
       "[29910 rows x 24 columns]"
      ]
     },
     "execution_count": 57,
     "metadata": {
      "tags": []
     },
     "output_type": "execute_result"
    }
   ],
   "source": [
    "global_power_plant_raw_df"
   ]
  },
  {
   "cell_type": "markdown",
   "metadata": {
    "id": "LWBupd6A7gSN"
   },
   "source": [
    "There are 29910 rows and 24 columns. Each power plant contain information of it's plant capacity, gereration, fuel type, year of plant operation, electricity generation in gigawatt-hours in years from 2013 to 2017 and estimated generation in the following year etc.  "
   ]
  },
  {
   "cell_type": "code",
   "execution_count": 58,
   "metadata": {
    "colab": {
     "base_uri": "https://localhost:8080/",
     "height": 153
    },
    "executionInfo": {
     "elapsed": 13057,
     "status": "ok",
     "timestamp": 1601706749137,
     "user": {
      "displayName": "Najmol Anwar",
      "photoUrl": "https://lh3.googleusercontent.com/a-/AOh14GiqWjqj-fgAoK0nCy76LRgMtuvVpQVpTCr_5iB4=s64",
      "userId": "17913700304635692485"
     },
     "user_tz": -360
    },
    "id": "qUY199G67gSO",
    "outputId": "5d3f8e28-1bef-43f9-8040-61181cddfb4c",
    "scrolled": true
   },
   "outputs": [
    {
     "data": {
      "text/plain": [
       "Index(['country', 'country_long', 'name', 'gppd_idnr', 'capacity_mw',\n",
       "       'latitude', 'longitude', 'primary_fuel', 'other_fuel1', 'other_fuel2',\n",
       "       'other_fuel3', 'commissioning_year', 'owner', 'source', 'url',\n",
       "       'geolocation_source', 'wepp_id', 'year_of_capacity_data',\n",
       "       'generation_gwh_2013', 'generation_gwh_2014', 'generation_gwh_2015',\n",
       "       'generation_gwh_2016', 'generation_gwh_2017',\n",
       "       'estimated_generation_gwh'],\n",
       "      dtype='object')"
      ]
     },
     "execution_count": 58,
     "metadata": {
      "tags": []
     },
     "output_type": "execute_result"
    }
   ],
   "source": [
    "global_power_plant_raw_df.columns"
   ]
  },
  {
   "cell_type": "markdown",
   "metadata": {
    "id": "Xh_NlJPN7gSQ"
   },
   "source": [
    "All the column labels from datafram can obtain by colums method."
   ]
  },
  {
   "cell_type": "markdown",
   "metadata": {
    "id": "9rhq8UE87gSQ"
   },
   "source": [
    "# Data Preparation & Cleaning"
   ]
  },
  {
   "cell_type": "code",
   "execution_count": 59,
   "metadata": {
    "colab": {
     "base_uri": "https://localhost:8080/",
     "height": 544
    },
    "executionInfo": {
     "elapsed": 13052,
     "status": "ok",
     "timestamp": 1601706749137,
     "user": {
      "displayName": "Najmol Anwar",
      "photoUrl": "https://lh3.googleusercontent.com/a-/AOh14GiqWjqj-fgAoK0nCy76LRgMtuvVpQVpTCr_5iB4=s64",
      "userId": "17913700304635692485"
     },
     "user_tz": -360
    },
    "id": "1KU8SFln7gSR",
    "outputId": "049bc090-62cb-4e0c-e80f-9eecc672ee8e"
   },
   "outputs": [
    {
     "name": "stdout",
     "output_type": "stream",
     "text": [
      "<class 'pandas.core.frame.DataFrame'>\n",
      "RangeIndex: 29910 entries, 0 to 29909\n",
      "Data columns (total 24 columns):\n",
      " #   Column                    Non-Null Count  Dtype  \n",
      "---  ------                    --------------  -----  \n",
      " 0   country                   29910 non-null  object \n",
      " 1   country_long              29910 non-null  object \n",
      " 2   name                      29910 non-null  object \n",
      " 3   gppd_idnr                 29910 non-null  object \n",
      " 4   capacity_mw               29910 non-null  float64\n",
      " 5   latitude                  29910 non-null  float64\n",
      " 6   longitude                 29910 non-null  float64\n",
      " 7   primary_fuel              29910 non-null  object \n",
      " 8   other_fuel1               1963 non-null   object \n",
      " 9   other_fuel2               303 non-null    object \n",
      " 10  other_fuel3               104 non-null    object \n",
      " 11  commissioning_year        16303 non-null  float64\n",
      " 12  owner                     19531 non-null  object \n",
      " 13  source                    29895 non-null  object \n",
      " 14  url                       29892 non-null  object \n",
      " 15  geolocation_source        29491 non-null  object \n",
      " 16  wepp_id                   16381 non-null  object \n",
      " 17  year_of_capacity_data     13743 non-null  float64\n",
      " 18  generation_gwh_2013       6996 non-null   float64\n",
      " 19  generation_gwh_2014       7440 non-null   float64\n",
      " 20  generation_gwh_2015       8144 non-null   float64\n",
      " 21  generation_gwh_2016       8971 non-null   float64\n",
      " 22  generation_gwh_2017       9213 non-null   float64\n",
      " 23  estimated_generation_gwh  21791 non-null  float64\n",
      "dtypes: float64(11), object(13)\n",
      "memory usage: 5.5+ MB\n"
     ]
    }
   ],
   "source": [
    "global_power_plant_raw_df.info()"
   ]
  },
  {
   "cell_type": "markdown",
   "metadata": {
    "id": "LdVCDX_I7gST"
   },
   "source": [
    "Using the info() function a short summary of the global power plant dataframe is made and print the information about the datafram including the index dtype and column dtypes, non-null values and memory usage.\n"
   ]
  },
  {
   "cell_type": "code",
   "execution_count": 60,
   "metadata": {
    "executionInfo": {
     "elapsed": 13052,
     "status": "ok",
     "timestamp": 1601706749138,
     "user": {
      "displayName": "Najmol Anwar",
      "photoUrl": "https://lh3.googleusercontent.com/a-/AOh14GiqWjqj-fgAoK0nCy76LRgMtuvVpQVpTCr_5iB4=s64",
      "userId": "17913700304635692485"
     },
     "user_tz": -360
    },
    "id": "FdM0Lieh7gST"
   },
   "outputs": [],
   "source": [
    "selected_column = [\n",
    "    'country',\n",
    "    'country_long',\n",
    "    'name',\n",
    "    'capacity_mw',\n",
    "    'primary_fuel',\n",
    "    'other_fuel1',\n",
    "    'other_fuel2',\n",
    "    'other_fuel3',\n",
    "    'commissioning_year',\n",
    "    'year_of_capacity_data',\n",
    "    'generation_gwh_2013',\n",
    "    'generation_gwh_2014',\n",
    "    'generation_gwh_2015',\n",
    "    'generation_gwh_2016',\n",
    "    'generation_gwh_2017',\n",
    "    'estimated_generation_gwh'\n",
    "]"
   ]
  },
  {
   "cell_type": "markdown",
   "metadata": {
    "id": "it2YEFDZ7gSV"
   },
   "source": [
    "The global database of power plants contains a lot of resources, but in this step we are going to restrict the study of columns, such as the type of use of fuel, plants belong to which country, year of the plant operation, estimate generation of power plant, etc. There are 16 columns that have been chosen for review."
   ]
  },
  {
   "cell_type": "code",
   "execution_count": 61,
   "metadata": {
    "colab": {
     "base_uri": "https://localhost:8080/",
     "height": 34
    },
    "executionInfo": {
     "elapsed": 13042,
     "status": "ok",
     "timestamp": 1601706749138,
     "user": {
      "displayName": "Najmol Anwar",
      "photoUrl": "https://lh3.googleusercontent.com/a-/AOh14GiqWjqj-fgAoK0nCy76LRgMtuvVpQVpTCr_5iB4=s64",
      "userId": "17913700304635692485"
     },
     "user_tz": -360
    },
    "id": "D_g_EW8T7gSV",
    "outputId": "3cea273a-a30c-47c1-dcf6-b0c9d122c230"
   },
   "outputs": [
    {
     "data": {
      "text/plain": [
       "16"
      ]
     },
     "execution_count": 61,
     "metadata": {
      "tags": []
     },
     "output_type": "execute_result"
    }
   ],
   "source": [
    "len(selected_column)"
   ]
  },
  {
   "cell_type": "code",
   "execution_count": 62,
   "metadata": {
    "executionInfo": {
     "elapsed": 13039,
     "status": "ok",
     "timestamp": 1601706749138,
     "user": {
      "displayName": "Najmol Anwar",
      "photoUrl": "https://lh3.googleusercontent.com/a-/AOh14GiqWjqj-fgAoK0nCy76LRgMtuvVpQVpTCr_5iB4=s64",
      "userId": "17913700304635692485"
     },
     "user_tz": -360
    },
    "id": "vNS5rwEt7gSX"
   },
   "outputs": [],
   "source": [
    "global_power_plant_df = global_power_plant_raw_df[selected_column].copy()"
   ]
  },
  {
   "cell_type": "markdown",
   "metadata": {
    "id": "oHZGrl7q7gSY"
   },
   "source": [
    "Sixteen selected columns are copy from the datafram."
   ]
  },
  {
   "cell_type": "code",
   "execution_count": 63,
   "metadata": {
    "colab": {
     "base_uri": "https://localhost:8080/",
     "height": 326
    },
    "executionInfo": {
     "elapsed": 13033,
     "status": "ok",
     "timestamp": 1601706749139,
     "user": {
      "displayName": "Najmol Anwar",
      "photoUrl": "https://lh3.googleusercontent.com/a-/AOh14GiqWjqj-fgAoK0nCy76LRgMtuvVpQVpTCr_5iB4=s64",
      "userId": "17913700304635692485"
     },
     "user_tz": -360
    },
    "id": "LPuuzdqr7gSZ",
    "outputId": "eba2bfec-0c5d-4ce5-a403-54dde0a156ad"
   },
   "outputs": [
    {
     "data": {
      "text/html": [
       "<div>\n",
       "<style scoped>\n",
       "    .dataframe tbody tr th:only-of-type {\n",
       "        vertical-align: middle;\n",
       "    }\n",
       "\n",
       "    .dataframe tbody tr th {\n",
       "        vertical-align: top;\n",
       "    }\n",
       "\n",
       "    .dataframe thead th {\n",
       "        text-align: right;\n",
       "    }\n",
       "</style>\n",
       "<table border=\"1\" class=\"dataframe\">\n",
       "  <thead>\n",
       "    <tr style=\"text-align: right;\">\n",
       "      <th></th>\n",
       "      <th>country</th>\n",
       "      <th>country_long</th>\n",
       "      <th>name</th>\n",
       "      <th>capacity_mw</th>\n",
       "      <th>primary_fuel</th>\n",
       "      <th>other_fuel1</th>\n",
       "      <th>other_fuel2</th>\n",
       "      <th>other_fuel3</th>\n",
       "      <th>commissioning_year</th>\n",
       "      <th>year_of_capacity_data</th>\n",
       "      <th>generation_gwh_2013</th>\n",
       "      <th>generation_gwh_2014</th>\n",
       "      <th>generation_gwh_2015</th>\n",
       "      <th>generation_gwh_2016</th>\n",
       "      <th>generation_gwh_2017</th>\n",
       "      <th>estimated_generation_gwh</th>\n",
       "    </tr>\n",
       "  </thead>\n",
       "  <tbody>\n",
       "    <tr>\n",
       "      <th>1159</th>\n",
       "      <td>BRA</td>\n",
       "      <td>Brazil</td>\n",
       "      <td>Areal</td>\n",
       "      <td>18.0</td>\n",
       "      <td>Hydro</td>\n",
       "      <td>NaN</td>\n",
       "      <td>NaN</td>\n",
       "      <td>NaN</td>\n",
       "      <td>1949.0</td>\n",
       "      <td>2017.0</td>\n",
       "      <td>NaN</td>\n",
       "      <td>NaN</td>\n",
       "      <td>NaN</td>\n",
       "      <td>NaN</td>\n",
       "      <td>NaN</td>\n",
       "      <td>68.563283</td>\n",
       "    </tr>\n",
       "    <tr>\n",
       "      <th>18535</th>\n",
       "      <td>GBR</td>\n",
       "      <td>United Kingdom</td>\n",
       "      <td>Binn Landfill</td>\n",
       "      <td>1.9</td>\n",
       "      <td>Waste</td>\n",
       "      <td>NaN</td>\n",
       "      <td>NaN</td>\n",
       "      <td>NaN</td>\n",
       "      <td>NaN</td>\n",
       "      <td>NaN</td>\n",
       "      <td>NaN</td>\n",
       "      <td>NaN</td>\n",
       "      <td>NaN</td>\n",
       "      <td>NaN</td>\n",
       "      <td>NaN</td>\n",
       "      <td>4.406018</td>\n",
       "    </tr>\n",
       "    <tr>\n",
       "      <th>16454</th>\n",
       "      <td>SAU</td>\n",
       "      <td>Saudi Arabia</td>\n",
       "      <td>AL-JOUF</td>\n",
       "      <td>348.0</td>\n",
       "      <td>Oil</td>\n",
       "      <td>NaN</td>\n",
       "      <td>NaN</td>\n",
       "      <td>NaN</td>\n",
       "      <td>2012.0</td>\n",
       "      <td>NaN</td>\n",
       "      <td>NaN</td>\n",
       "      <td>NaN</td>\n",
       "      <td>NaN</td>\n",
       "      <td>NaN</td>\n",
       "      <td>NaN</td>\n",
       "      <td>1066.249276</td>\n",
       "    </tr>\n",
       "    <tr>\n",
       "      <th>3875</th>\n",
       "      <td>CAN</td>\n",
       "      <td>Canada</td>\n",
       "      <td>Hollow Bridge</td>\n",
       "      <td>5.3</td>\n",
       "      <td>Hydro</td>\n",
       "      <td>NaN</td>\n",
       "      <td>NaN</td>\n",
       "      <td>NaN</td>\n",
       "      <td>NaN</td>\n",
       "      <td>2000.0</td>\n",
       "      <td>NaN</td>\n",
       "      <td>NaN</td>\n",
       "      <td>NaN</td>\n",
       "      <td>NaN</td>\n",
       "      <td>NaN</td>\n",
       "      <td>25.130972</td>\n",
       "    </tr>\n",
       "    <tr>\n",
       "      <th>25853</th>\n",
       "      <td>USA</td>\n",
       "      <td>United States of America</td>\n",
       "      <td>Monterey Regional Water Pollution Contro</td>\n",
       "      <td>1.0</td>\n",
       "      <td>Solar</td>\n",
       "      <td>NaN</td>\n",
       "      <td>NaN</td>\n",
       "      <td>NaN</td>\n",
       "      <td>2011.0</td>\n",
       "      <td>2017.0</td>\n",
       "      <td>2.44332</td>\n",
       "      <td>1.59291</td>\n",
       "      <td>1.66122</td>\n",
       "      <td>1.282</td>\n",
       "      <td>1.388</td>\n",
       "      <td>NaN</td>\n",
       "    </tr>\n",
       "  </tbody>\n",
       "</table>\n",
       "</div>"
      ],
      "text/plain": [
       "      country  ... estimated_generation_gwh\n",
       "1159      BRA  ...                68.563283\n",
       "18535     GBR  ...                 4.406018\n",
       "16454     SAU  ...              1066.249276\n",
       "3875      CAN  ...                25.130972\n",
       "25853     USA  ...                      NaN\n",
       "\n",
       "[5 rows x 16 columns]"
      ]
     },
     "execution_count": 63,
     "metadata": {
      "tags": []
     },
     "output_type": "execute_result"
    }
   ],
   "source": [
    "global_power_plant_df.sample(5)"
   ]
  },
  {
   "cell_type": "markdown",
   "metadata": {
    "id": "xxFytT-N7gSb"
   },
   "source": [
    "Using sample(x) method x random row of power plants data from the datafram are shown."
   ]
  },
  {
   "cell_type": "code",
   "execution_count": 64,
   "metadata": {
    "colab": {
     "base_uri": "https://localhost:8080/",
     "height": 297
    },
    "executionInfo": {
     "elapsed": 13028,
     "status": "ok",
     "timestamp": 1601706749139,
     "user": {
      "displayName": "Najmol Anwar",
      "photoUrl": "https://lh3.googleusercontent.com/a-/AOh14GiqWjqj-fgAoK0nCy76LRgMtuvVpQVpTCr_5iB4=s64",
      "userId": "17913700304635692485"
     },
     "user_tz": -360
    },
    "id": "YYMCtFo97gSb",
    "outputId": "19997d31-5bf4-48e3-c35a-b70245cd1eee"
   },
   "outputs": [
    {
     "data": {
      "text/html": [
       "<div>\n",
       "<style scoped>\n",
       "    .dataframe tbody tr th:only-of-type {\n",
       "        vertical-align: middle;\n",
       "    }\n",
       "\n",
       "    .dataframe tbody tr th {\n",
       "        vertical-align: top;\n",
       "    }\n",
       "\n",
       "    .dataframe thead th {\n",
       "        text-align: right;\n",
       "    }\n",
       "</style>\n",
       "<table border=\"1\" class=\"dataframe\">\n",
       "  <thead>\n",
       "    <tr style=\"text-align: right;\">\n",
       "      <th></th>\n",
       "      <th>capacity_mw</th>\n",
       "      <th>commissioning_year</th>\n",
       "      <th>year_of_capacity_data</th>\n",
       "      <th>generation_gwh_2013</th>\n",
       "      <th>generation_gwh_2014</th>\n",
       "      <th>generation_gwh_2015</th>\n",
       "      <th>generation_gwh_2016</th>\n",
       "      <th>generation_gwh_2017</th>\n",
       "      <th>estimated_generation_gwh</th>\n",
       "    </tr>\n",
       "  </thead>\n",
       "  <tbody>\n",
       "    <tr>\n",
       "      <th>count</th>\n",
       "      <td>29910.000000</td>\n",
       "      <td>16303.000000</td>\n",
       "      <td>13743.000000</td>\n",
       "      <td>6996.000000</td>\n",
       "      <td>7440.000000</td>\n",
       "      <td>8144.000000</td>\n",
       "      <td>8971.000000</td>\n",
       "      <td>9213.000000</td>\n",
       "      <td>21791.000000</td>\n",
       "    </tr>\n",
       "    <tr>\n",
       "      <th>mean</th>\n",
       "      <td>186.294810</td>\n",
       "      <td>1995.486227</td>\n",
       "      <td>2016.860001</td>\n",
       "      <td>689.625437</td>\n",
       "      <td>664.840134</td>\n",
       "      <td>664.270784</td>\n",
       "      <td>583.622877</td>\n",
       "      <td>579.524723</td>\n",
       "      <td>847.036474</td>\n",
       "    </tr>\n",
       "    <tr>\n",
       "      <th>std</th>\n",
       "      <td>525.703572</td>\n",
       "      <td>23.525537</td>\n",
       "      <td>1.195205</td>\n",
       "      <td>2330.869715</td>\n",
       "      <td>2258.351290</td>\n",
       "      <td>2304.225386</td>\n",
       "      <td>2097.603620</td>\n",
       "      <td>2063.070235</td>\n",
       "      <td>4067.434967</td>\n",
       "    </tr>\n",
       "    <tr>\n",
       "      <th>min</th>\n",
       "      <td>1.000000</td>\n",
       "      <td>1896.000000</td>\n",
       "      <td>2000.000000</td>\n",
       "      <td>-947.600000</td>\n",
       "      <td>-989.619000</td>\n",
       "      <td>-864.428000</td>\n",
       "      <td>-768.620000</td>\n",
       "      <td>-934.944000</td>\n",
       "      <td>0.000000</td>\n",
       "    </tr>\n",
       "    <tr>\n",
       "      <th>25%</th>\n",
       "      <td>4.774430</td>\n",
       "      <td>1986.000000</td>\n",
       "      <td>2017.000000</td>\n",
       "      <td>2.167000</td>\n",
       "      <td>2.157000</td>\n",
       "      <td>2.350250</td>\n",
       "      <td>2.380500</td>\n",
       "      <td>3.202000</td>\n",
       "      <td>10.082961</td>\n",
       "    </tr>\n",
       "    <tr>\n",
       "      <th>50%</th>\n",
       "      <td>18.900000</td>\n",
       "      <td>2005.000000</td>\n",
       "      <td>2017.000000</td>\n",
       "      <td>27.033000</td>\n",
       "      <td>23.005000</td>\n",
       "      <td>22.094000</td>\n",
       "      <td>17.862000</td>\n",
       "      <td>20.462000</td>\n",
       "      <td>53.417041</td>\n",
       "    </tr>\n",
       "    <tr>\n",
       "      <th>75%</th>\n",
       "      <td>100.000000</td>\n",
       "      <td>2012.063866</td>\n",
       "      <td>2017.000000</td>\n",
       "      <td>250.600500</td>\n",
       "      <td>224.955250</td>\n",
       "      <td>238.437917</td>\n",
       "      <td>187.084835</td>\n",
       "      <td>192.567000</td>\n",
       "      <td>339.874490</td>\n",
       "    </tr>\n",
       "    <tr>\n",
       "      <th>max</th>\n",
       "      <td>22500.000000</td>\n",
       "      <td>2018.000000</td>\n",
       "      <td>2018.000000</td>\n",
       "      <td>50834.000000</td>\n",
       "      <td>32320.917000</td>\n",
       "      <td>59546.865000</td>\n",
       "      <td>32377.477000</td>\n",
       "      <td>35116.000000</td>\n",
       "      <td>450562.692350</td>\n",
       "    </tr>\n",
       "  </tbody>\n",
       "</table>\n",
       "</div>"
      ],
      "text/plain": [
       "        capacity_mw  ...  estimated_generation_gwh\n",
       "count  29910.000000  ...              21791.000000\n",
       "mean     186.294810  ...                847.036474\n",
       "std      525.703572  ...               4067.434967\n",
       "min        1.000000  ...                  0.000000\n",
       "25%        4.774430  ...                 10.082961\n",
       "50%       18.900000  ...                 53.417041\n",
       "75%      100.000000  ...                339.874490\n",
       "max    22500.000000  ...             450562.692350\n",
       "\n",
       "[8 rows x 9 columns]"
      ]
     },
     "execution_count": 64,
     "metadata": {
      "tags": []
     },
     "output_type": "execute_result"
    }
   ],
   "source": [
    "global_power_plant_df.describe()"
   ]
  },
  {
   "cell_type": "markdown",
   "metadata": {
    "id": "JP169VdS7gSd"
   },
   "source": [
    "There are some power plants that has negative generation of power. It seems like a mistake in the dataset but there are some power plant those consume more energy than they are produce. "
   ]
  },
  {
   "cell_type": "code",
   "execution_count": 65,
   "metadata": {
    "colab": {
     "base_uri": "https://localhost:8080/",
     "height": 117
    },
    "executionInfo": {
     "elapsed": 13024,
     "status": "ok",
     "timestamp": 1601706749139,
     "user": {
      "displayName": "Najmol Anwar",
      "photoUrl": "https://lh3.googleusercontent.com/a-/AOh14GiqWjqj-fgAoK0nCy76LRgMtuvVpQVpTCr_5iB4=s64",
      "userId": "17913700304635692485"
     },
     "user_tz": -360
    },
    "id": "pTr725q07gSd",
    "outputId": "8925d3a9-6dd6-41b4-ec00-70217de47228"
   },
   "outputs": [
    {
     "data": {
      "text/html": [
       "<div>\n",
       "<style scoped>\n",
       "    .dataframe tbody tr th:only-of-type {\n",
       "        vertical-align: middle;\n",
       "    }\n",
       "\n",
       "    .dataframe tbody tr th {\n",
       "        vertical-align: top;\n",
       "    }\n",
       "\n",
       "    .dataframe thead th {\n",
       "        text-align: right;\n",
       "    }\n",
       "</style>\n",
       "<table border=\"1\" class=\"dataframe\">\n",
       "  <thead>\n",
       "    <tr style=\"text-align: right;\">\n",
       "      <th></th>\n",
       "      <th>country</th>\n",
       "      <th>country_long</th>\n",
       "      <th>name</th>\n",
       "      <th>capacity_mw</th>\n",
       "      <th>primary_fuel</th>\n",
       "      <th>other_fuel1</th>\n",
       "      <th>other_fuel2</th>\n",
       "      <th>other_fuel3</th>\n",
       "      <th>commissioning_year</th>\n",
       "      <th>year_of_capacity_data</th>\n",
       "      <th>generation_gwh_2013</th>\n",
       "      <th>generation_gwh_2014</th>\n",
       "      <th>generation_gwh_2015</th>\n",
       "      <th>generation_gwh_2016</th>\n",
       "      <th>generation_gwh_2017</th>\n",
       "      <th>estimated_generation_gwh</th>\n",
       "    </tr>\n",
       "  </thead>\n",
       "  <tbody>\n",
       "    <tr>\n",
       "      <th>21397</th>\n",
       "      <td>USA</td>\n",
       "      <td>United States of America</td>\n",
       "      <td>Bath County</td>\n",
       "      <td>2862.0</td>\n",
       "      <td>Hydro</td>\n",
       "      <td>NaN</td>\n",
       "      <td>NaN</td>\n",
       "      <td>NaN</td>\n",
       "      <td>1986.0</td>\n",
       "      <td>2017.0</td>\n",
       "      <td>-947.6</td>\n",
       "      <td>-989.619</td>\n",
       "      <td>-864.428</td>\n",
       "      <td>-768.62</td>\n",
       "      <td>-934.944</td>\n",
       "      <td>NaN</td>\n",
       "    </tr>\n",
       "  </tbody>\n",
       "</table>\n",
       "</div>"
      ],
      "text/plain": [
       "      country  ... estimated_generation_gwh\n",
       "21397     USA  ...                      NaN\n",
       "\n",
       "[1 rows x 16 columns]"
      ]
     },
     "execution_count": 65,
     "metadata": {
      "tags": []
     },
     "output_type": "execute_result"
    }
   ],
   "source": [
    "global_power_plant_df[global_power_plant_df.generation_gwh_2013 == -947.6000000]"
   ]
  },
  {
   "cell_type": "markdown",
   "metadata": {
    "id": "Dra1eyfg7gSf"
   },
   "source": [
    "Hydro power plant generates electricity from turbine-driven generators that transform the potential energy of falling or fast-flowing water into mechanical energy.The Bath County is a pumped storage power plant. Plants require electrical energy to pump uphill water, there are net negative electricity generation balances for this pumped storage hydro plants."
   ]
  },
  {
   "cell_type": "markdown",
   "metadata": {
    "id": "60HxxTVp7gSh"
   },
   "source": [
    "# Exploratory Analysis and Visualization"
   ]
  },
  {
   "cell_type": "code",
   "execution_count": 66,
   "metadata": {
    "executionInfo": {
     "elapsed": 13023,
     "status": "ok",
     "timestamp": 1601706749140,
     "user": {
      "displayName": "Najmol Anwar",
      "photoUrl": "https://lh3.googleusercontent.com/a-/AOh14GiqWjqj-fgAoK0nCy76LRgMtuvVpQVpTCr_5iB4=s64",
      "userId": "17913700304635692485"
     },
     "user_tz": -360
    },
    "id": "x_nYVdUS7gSh"
   },
   "outputs": [],
   "source": [
    "import seaborn as sns\n",
    "import matplotlib\n",
    "import matplotlib.pyplot as plt\n",
    "%matplotlib inline\n",
    "\n",
    "sns.set_style('darkgrid')\n",
    "matplotlib.rcParams['font.size'] = 14\n",
    "matplotlib.rcParams['figure.figsize'] = (12, 8)\n",
    "matplotlib.rcParams['figure.facecolor'] = '#00000000'"
   ]
  },
  {
   "cell_type": "code",
   "execution_count": 102,
   "metadata": {
    "colab": {
     "base_uri": "https://localhost:8080/",
     "height": 34
    },
    "executionInfo": {
     "elapsed": 2148,
     "status": "ok",
     "timestamp": 1601710446678,
     "user": {
      "displayName": "Najmol Anwar",
      "photoUrl": "https://lh3.googleusercontent.com/a-/AOh14GiqWjqj-fgAoK0nCy76LRgMtuvVpQVpTCr_5iB4=s64",
      "userId": "17913700304635692485"
     },
     "user_tz": -360
    },
    "id": "Ykgh5k4x7gSj",
    "outputId": "0227ec13-c723-4417-eea1-5783d092f399"
   },
   "outputs": [
    {
     "data": {
      "text/plain": [
       "164"
      ]
     },
     "execution_count": 102,
     "metadata": {
      "tags": []
     },
     "output_type": "execute_result"
    }
   ],
   "source": [
    "global_power_plant_df.country_long.nunique()"
   ]
  },
  {
   "cell_type": "markdown",
   "metadata": {
    "id": "p483wm937gSk"
   },
   "source": [
    "There are a total of 164 countries with data of various types of power plants. "
   ]
  },
  {
   "cell_type": "markdown",
   "metadata": {
    "id": "sY55_c-j7gSl"
   },
   "source": [
    "### Let's look up at top 20 countries with heights amount of power plants."
   ]
  },
  {
   "cell_type": "markdown",
   "metadata": {
    "id": "OqAa6Ta27gSl"
   },
   "source": [
    "We can calculated the total amount of power plant by count the country name.\n",
    "\n",
    "The method value_counts() is use to count the total amount of time a country name is appear in the datafram and head(20) to get the top 20. "
   ]
  },
  {
   "cell_type": "code",
   "execution_count": 68,
   "metadata": {
    "colab": {
     "base_uri": "https://localhost:8080/",
     "height": 374
    },
    "executionInfo": {
     "elapsed": 13013,
     "status": "ok",
     "timestamp": 1601706749140,
     "user": {
      "displayName": "Najmol Anwar",
      "photoUrl": "https://lh3.googleusercontent.com/a-/AOh14GiqWjqj-fgAoK0nCy76LRgMtuvVpQVpTCr_5iB4=s64",
      "userId": "17913700304635692485"
     },
     "user_tz": -360
    },
    "id": "NnWaQW1w7gSm",
    "outputId": "41317d44-e93f-4aae-e051-dbd5ec7e4b6e"
   },
   "outputs": [
    {
     "data": {
      "text/plain": [
       "United States of America    8686\n",
       "China                       3041\n",
       "United Kingdom              2536\n",
       "Brazil                      2340\n",
       "France                      2017\n",
       "Canada                      1154\n",
       "Germany                      982\n",
       "India                        861\n",
       "Spain                        614\n",
       "Russia                       505\n",
       "Portugal                     462\n",
       "Czech Republic               457\n",
       "Australia                    429\n",
       "Japan                        329\n",
       "Norway                       306\n",
       "Chile                        254\n",
       "Mexico                       251\n",
       "Italy                        247\n",
       "Argentina                    231\n",
       "Vietnam                      220\n",
       "Name: country_long, dtype: int64"
      ]
     },
     "execution_count": 68,
     "metadata": {
      "tags": []
     },
     "output_type": "execute_result"
    }
   ],
   "source": [
    "countries_plant = global_power_plant_df.country_long.value_counts().head(20)\n",
    "countries_plant"
   ]
  },
  {
   "cell_type": "code",
   "execution_count": 69,
   "metadata": {
    "colab": {
     "base_uri": "https://localhost:8080/",
     "height": 686
    },
    "executionInfo": {
     "elapsed": 13011,
     "status": "ok",
     "timestamp": 1601706749141,
     "user": {
      "displayName": "Najmol Anwar",
      "photoUrl": "https://lh3.googleusercontent.com/a-/AOh14GiqWjqj-fgAoK0nCy76LRgMtuvVpQVpTCr_5iB4=s64",
      "userId": "17913700304635692485"
     },
     "user_tz": -360
    },
    "id": "mM10if7f7gSn",
    "outputId": "e569ed28-5e76-4704-d8a9-aaec272bc2ba"
   },
   "outputs": [
    {
     "data": {
      "image/png": "[encoded data removed]",
      "text/plain": [
       "<Figure size 864x576 with 1 Axes>"
      ]
     },
     "metadata": {
      "needs_background": "light",
      "tags": []
     },
     "output_type": "display_data"
    }
   ],
   "source": [
    "sns.barplot(x = countries_plant.index, y = countries_plant)\n",
    "plt.xticks(rotation = 90)\n",
    "plt.title('Country Designation')\n",
    "plt.ylabel('Number of Power Plant')\n",
    "plt.xlabel('Countries');"
   ]
  },
  {
   "cell_type": "markdown",
   "metadata": {
    "id": "DwvYPLND7gSp"
   },
   "source": [
    "### Fuel use in power plant."
   ]
  },
  {
   "cell_type": "markdown",
   "metadata": {
    "id": "_4JT58uA7gSp"
   },
   "source": [
    "Various types of fuel are used in the power plant, which can be classified as primary fuel, other fuel-1, other fuel-2, etc. Primary fuel is used to run the main turbine to generate electricity and other fuels are used to run auxiliary machines to support the generation process."
   ]
  },
  {
   "cell_type": "code",
   "execution_count": 70,
   "metadata": {
    "colab": {
     "base_uri": "https://localhost:8080/",
     "height": 0
    },
    "executionInfo": {
     "elapsed": 13008,
     "status": "ok",
     "timestamp": 1601706749141,
     "user": {
      "displayName": "Najmol Anwar",
      "photoUrl": "https://lh3.googleusercontent.com/a-/AOh14GiqWjqj-fgAoK0nCy76LRgMtuvVpQVpTCr_5iB4=s64",
      "userId": "17913700304635692485"
     },
     "user_tz": -360
    },
    "id": "tYngFXu37gSp",
    "outputId": "6f99d444-5731-4b86-e887-8c359efdc6ca"
   },
   "outputs": [
    {
     "data": {
      "text/plain": [
       "Hydro             23.921765\n",
       "Solar             19.822802\n",
       "Wind              17.345369\n",
       "Gas               13.112671\n",
       "Coal               7.990639\n",
       "Oil                7.656302\n",
       "Biomass            4.667335\n",
       "Waste              3.634236\n",
       "Nuclear            0.661986\n",
       "Geothermal         0.631896\n",
       "Storage            0.193915\n",
       "Other              0.147108\n",
       "Cogeneration       0.137078\n",
       "Petcoke            0.043464\n",
       "Wave and Tidal     0.033434\n",
       "Name: primary_fuel, dtype: float64"
      ]
     },
     "execution_count": 70,
     "metadata": {
      "tags": []
     },
     "output_type": "execute_result"
    }
   ],
   "source": [
    "main_primary_fuel = global_power_plant_df.primary_fuel.value_counts() * 100 / global_power_plant_df.primary_fuel.count()\n",
    "main_primary_fuel"
   ]
  },
  {
   "cell_type": "code",
   "execution_count": 71,
   "metadata": {
    "colab": {
     "base_uri": "https://localhost:8080/",
     "height": 0
    },
    "executionInfo": {
     "elapsed": 14450,
     "status": "ok",
     "timestamp": 1601706750587,
     "user": {
      "displayName": "Najmol Anwar",
      "photoUrl": "https://lh3.googleusercontent.com/a-/AOh14GiqWjqj-fgAoK0nCy76LRgMtuvVpQVpTCr_5iB4=s64",
      "userId": "17913700304635692485"
     },
     "user_tz": -360
    },
    "id": "7W1gE1oF7gSq",
    "outputId": "8bf33117-d8b6-49dc-a0c1-7680e9fbc7cf"
   },
   "outputs": [
    {
     "data": {
      "image/png": "[encoded data removed]",
      "text/plain": [
       "<Figure size 864x576 with 1 Axes>"
      ]
     },
     "metadata": {
      "needs_background": "light",
      "tags": []
     },
     "output_type": "display_data"
    }
   ],
   "source": [
    "sns.barplot(x = main_primary_fuel, y = main_primary_fuel.index)\n",
    "plt.title('Main primary fuel')\n",
    "plt.xlabel('Count (Percentages)');\n",
    "plt.ylabel('Different type of power plant depands on the type of fuel uses');"
   ]
  },
  {
   "cell_type": "markdown",
   "metadata": {
    "id": "Ejs-MebW7gSs"
   },
   "source": [
    "Renewable energy-based power plants have higher percentages that are beneficial to our future generation. Global warming is the next major threat that we all have to face. It is a good sign that the use of hydro, solar and wind power plants is increasing."
   ]
  },
  {
   "cell_type": "markdown",
   "metadata": {
    "id": "Qbh2Llts7gSs"
   },
   "source": [
    "### Type of power plant and their capacity"
   ]
  },
  {
   "cell_type": "code",
   "execution_count": 72,
   "metadata": {
    "colab": {
     "base_uri": "https://localhost:8080/",
     "height": 0
    },
    "executionInfo": {
     "elapsed": 14446,
     "status": "ok",
     "timestamp": 1601706750588,
     "user": {
      "displayName": "Najmol Anwar",
      "photoUrl": "https://lh3.googleusercontent.com/a-/AOh14GiqWjqj-fgAoK0nCy76LRgMtuvVpQVpTCr_5iB4=s64",
      "userId": "17913700304635692485"
     },
     "user_tz": -360
    },
    "id": "VcTfY-dh7gSs",
    "outputId": "5a224ee5-0dbc-4d0b-e907-ed781b5bb38e"
   },
   "outputs": [
    {
     "data": {
      "image/png": "[encoded data removed]",
      "text/plain": [
       "<Figure size 864x576 with 1 Axes>"
      ]
     },
     "metadata": {
      "needs_background": "light",
      "tags": []
     },
     "output_type": "display_data"
    }
   ],
   "source": [
    "sns.scatterplot(x = global_power_plant_df.capacity_mw, y = global_power_plant_df.primary_fuel, s = 150)\n",
    "plt.title('Type of power plant and capacity');"
   ]
  },
  {
   "cell_type": "markdown",
   "metadata": {
    "id": "VGnALVTi7gSu"
   },
   "source": [
    "The Hydro Power Plant has most of the high-capacity power plant. There is only 0.67 per cent of the nuclear power plant, but the capacity of the power plant is high. In spite of having a higher percentage, the solar power plant has a small capacity."
   ]
  },
  {
   "cell_type": "markdown",
   "metadata": {
    "id": "26jA3q-E7gSu"
   },
   "source": [
    "### Capacity of generating power in the top 20 countries."
   ]
  },
  {
   "cell_type": "markdown",
   "metadata": {
    "id": "RRAxT_Pc7gSu"
   },
   "source": [
    "Using groupby() method we can split the datafram into country name and their capacity of generating power."
   ]
  },
  {
   "cell_type": "code",
   "execution_count": 73,
   "metadata": {
    "colab": {
     "base_uri": "https://localhost:8080/",
     "height": 0
    },
    "executionInfo": {
     "elapsed": 14442,
     "status": "ok",
     "timestamp": 1601706750588,
     "user": {
      "displayName": "Najmol Anwar",
      "photoUrl": "https://lh3.googleusercontent.com/a-/AOh14GiqWjqj-fgAoK0nCy76LRgMtuvVpQVpTCr_5iB4=s64",
      "userId": "17913700304635692485"
     },
     "user_tz": -360
    },
    "id": "L0I5v2it7gSv",
    "outputId": "2bdfec4b-6682-4796-87cc-c24cb59b5875"
   },
   "outputs": [
    {
     "data": {
      "text/html": [
       "<div>\n",
       "<style scoped>\n",
       "    .dataframe tbody tr th:only-of-type {\n",
       "        vertical-align: middle;\n",
       "    }\n",
       "\n",
       "    .dataframe tbody tr th {\n",
       "        vertical-align: top;\n",
       "    }\n",
       "\n",
       "    .dataframe thead th {\n",
       "        text-align: right;\n",
       "    }\n",
       "</style>\n",
       "<table border=\"1\" class=\"dataframe\">\n",
       "  <thead>\n",
       "    <tr style=\"text-align: right;\">\n",
       "      <th></th>\n",
       "      <th>capacity_mw</th>\n",
       "    </tr>\n",
       "    <tr>\n",
       "      <th>country_long</th>\n",
       "      <th></th>\n",
       "    </tr>\n",
       "  </thead>\n",
       "  <tbody>\n",
       "    <tr>\n",
       "      <th>China</th>\n",
       "      <td>1.363283e+06</td>\n",
       "    </tr>\n",
       "    <tr>\n",
       "      <th>United States of America</th>\n",
       "      <td>1.193616e+06</td>\n",
       "    </tr>\n",
       "    <tr>\n",
       "      <th>India</th>\n",
       "      <td>2.886941e+05</td>\n",
       "    </tr>\n",
       "    <tr>\n",
       "      <th>Russia</th>\n",
       "      <td>2.275556e+05</td>\n",
       "    </tr>\n",
       "    <tr>\n",
       "      <th>Japan</th>\n",
       "      <td>2.116677e+05</td>\n",
       "    </tr>\n",
       "    <tr>\n",
       "      <th>Brazil</th>\n",
       "      <td>1.457885e+05</td>\n",
       "    </tr>\n",
       "    <tr>\n",
       "      <th>Canada</th>\n",
       "      <td>1.434552e+05</td>\n",
       "    </tr>\n",
       "    <tr>\n",
       "      <th>France</th>\n",
       "      <td>1.092853e+05</td>\n",
       "    </tr>\n",
       "    <tr>\n",
       "      <th>Germany</th>\n",
       "      <td>1.091628e+05</td>\n",
       "    </tr>\n",
       "    <tr>\n",
       "      <th>South Korea</th>\n",
       "      <td>9.940678e+04</td>\n",
       "    </tr>\n",
       "    <tr>\n",
       "      <th>United Kingdom</th>\n",
       "      <td>8.741818e+04</td>\n",
       "    </tr>\n",
       "    <tr>\n",
       "      <th>Saudi Arabia</th>\n",
       "      <td>8.421855e+04</td>\n",
       "    </tr>\n",
       "    <tr>\n",
       "      <th>Spain</th>\n",
       "      <td>7.616657e+04</td>\n",
       "    </tr>\n",
       "    <tr>\n",
       "      <th>Italy</th>\n",
       "      <td>7.157396e+04</td>\n",
       "    </tr>\n",
       "    <tr>\n",
       "      <th>Australia</th>\n",
       "      <td>6.573117e+04</td>\n",
       "    </tr>\n",
       "    <tr>\n",
       "      <th>Iran</th>\n",
       "      <td>6.128810e+04</td>\n",
       "    </tr>\n",
       "    <tr>\n",
       "      <th>Mexico</th>\n",
       "      <td>5.970050e+04</td>\n",
       "    </tr>\n",
       "    <tr>\n",
       "      <th>Turkey</th>\n",
       "      <td>5.078610e+04</td>\n",
       "    </tr>\n",
       "    <tr>\n",
       "      <th>South Africa</th>\n",
       "      <td>5.017230e+04</td>\n",
       "    </tr>\n",
       "    <tr>\n",
       "      <th>Indonesia</th>\n",
       "      <td>4.875142e+04</td>\n",
       "    </tr>\n",
       "  </tbody>\n",
       "</table>\n",
       "</div>"
      ],
      "text/plain": [
       "                           capacity_mw\n",
       "country_long                          \n",
       "China                     1.363283e+06\n",
       "United States of America  1.193616e+06\n",
       "India                     2.886941e+05\n",
       "Russia                    2.275556e+05\n",
       "Japan                     2.116677e+05\n",
       "Brazil                    1.457885e+05\n",
       "Canada                    1.434552e+05\n",
       "France                    1.092853e+05\n",
       "Germany                   1.091628e+05\n",
       "South Korea               9.940678e+04\n",
       "United Kingdom            8.741818e+04\n",
       "Saudi Arabia              8.421855e+04\n",
       "Spain                     7.616657e+04\n",
       "Italy                     7.157396e+04\n",
       "Australia                 6.573117e+04\n",
       "Iran                      6.128810e+04\n",
       "Mexico                    5.970050e+04\n",
       "Turkey                    5.078610e+04\n",
       "South Africa              5.017230e+04\n",
       "Indonesia                 4.875142e+04"
      ]
     },
     "execution_count": 73,
     "metadata": {
      "tags": []
     },
     "output_type": "execute_result"
    }
   ],
   "source": [
    "countries_capacity = global_power_plant_df.groupby('country_long')[['capacity_mw']].sum().sort_values('capacity_mw', ascending = False).head(20)\n",
    "countries_capacity"
   ]
  },
  {
   "cell_type": "code",
   "execution_count": 74,
   "metadata": {
    "colab": {
     "base_uri": "https://localhost:8080/",
     "height": 0
    },
    "executionInfo": {
     "elapsed": 16573,
     "status": "ok",
     "timestamp": 1601706752724,
     "user": {
      "displayName": "Najmol Anwar",
      "photoUrl": "https://lh3.googleusercontent.com/a-/AOh14GiqWjqj-fgAoK0nCy76LRgMtuvVpQVpTCr_5iB4=s64",
      "userId": "17913700304635692485"
     },
     "user_tz": -360
    },
    "id": "X590SIU27gSw",
    "outputId": "3f290227-01c1-4c4e-cbe4-14b612a99a2d"
   },
   "outputs": [
    {
     "data": {
      "image/png": "[encoded data removed]",
      "text/plain": [
       "<Figure size 864x576 with 1 Axes>"
      ]
     },
     "metadata": {
      "needs_background": "light",
      "tags": []
     },
     "output_type": "display_data"
    }
   ],
   "source": [
    "sns.barplot(x = countries_capacity.index, y = countries_capacity.capacity_mw)\n",
    "plt.xticks(rotation = 90)\n",
    "plt.title('Countries with capacity');"
   ]
  },
  {
   "cell_type": "markdown",
   "metadata": {
    "id": "aTRIqwEd7gSy"
   },
   "source": [
    "China and the United States are the two largest economies in the world, as well as two large countries with a huge population. It was therefore obvious that two economic giant countries were at the top of the list. "
   ]
  },
  {
   "cell_type": "markdown",
   "metadata": {
    "id": "upYPu-fP7gSy"
   },
   "source": [
    "### Generation of power in USA, India and Australia during 2013, 2014, 2015, 2015, 2017."
   ]
  },
  {
   "cell_type": "markdown",
   "metadata": {
    "id": "xSaImlrJ7gSy"
   },
   "source": [
    "In the generation gwh column, many year has missing data (e.g. generation gwh 2013 has 22914 nun value from 29910 column). So, in order to compare the generation amoung different year, it is appropriate to select some countries which data are present in the five-year period. The United States of America, India and Australia are selected for this of scenario."
   ]
  },
  {
   "cell_type": "code",
   "execution_count": 75,
   "metadata": {
    "colab": {
     "base_uri": "https://localhost:8080/",
     "height": 0
    },
    "executionInfo": {
     "elapsed": 16571,
     "status": "ok",
     "timestamp": 1601706752725,
     "user": {
      "displayName": "Najmol Anwar",
      "photoUrl": "https://lh3.googleusercontent.com/a-/AOh14GiqWjqj-fgAoK0nCy76LRgMtuvVpQVpTCr_5iB4=s64",
      "userId": "17913700304635692485"
     },
     "user_tz": -360
    },
    "id": "wgF1mA4t7gSz",
    "outputId": "265bdfca-d441-4c9f-be28-571fd46bd12b"
   },
   "outputs": [
    {
     "data": {
      "text/plain": [
       "22914"
      ]
     },
     "execution_count": 75,
     "metadata": {
      "tags": []
     },
     "output_type": "execute_result"
    }
   ],
   "source": [
    "global_power_plant_df.generation_gwh_2013.isna().sum()"
   ]
  },
  {
   "cell_type": "code",
   "execution_count": 76,
   "metadata": {
    "executionInfo": {
     "elapsed": 16569,
     "status": "ok",
     "timestamp": 1601706752725,
     "user": {
      "displayName": "Najmol Anwar",
      "photoUrl": "https://lh3.googleusercontent.com/a-/AOh14GiqWjqj-fgAoK0nCy76LRgMtuvVpQVpTCr_5iB4=s64",
      "userId": "17913700304635692485"
     },
     "user_tz": -360
    },
    "id": "yoyec5wN7gS0"
   },
   "outputs": [],
   "source": [
    "est_gen_2013 = global_power_plant_df.groupby('country_long')[['generation_gwh_2013']].sum().sort_values('generation_gwh_2013', ascending = False).head(10)\n",
    "est_gen_2013_UIA = est_gen_2013[est_gen_2013.index.isin(['United States of America', 'India', 'Australia'])]"
   ]
  },
  {
   "cell_type": "code",
   "execution_count": 77,
   "metadata": {
    "executionInfo": {
     "elapsed": 16568,
     "status": "ok",
     "timestamp": 1601706752725,
     "user": {
      "displayName": "Najmol Anwar",
      "photoUrl": "https://lh3.googleusercontent.com/a-/AOh14GiqWjqj-fgAoK0nCy76LRgMtuvVpQVpTCr_5iB4=s64",
      "userId": "17913700304635692485"
     },
     "user_tz": -360
    },
    "id": "-Y-27fJr7gS1"
   },
   "outputs": [],
   "source": [
    "est_gen_2014 = global_power_plant_df.groupby('country_long')[['generation_gwh_2014']].sum().sort_values('generation_gwh_2014', ascending = False).head(10)\n",
    "est_gen_2014_UIA = est_gen_2014[est_gen_2014.index.isin(['United States of America', 'India', 'Australia'])]"
   ]
  },
  {
   "cell_type": "code",
   "execution_count": 78,
   "metadata": {
    "executionInfo": {
     "elapsed": 16568,
     "status": "ok",
     "timestamp": 1601706752726,
     "user": {
      "displayName": "Najmol Anwar",
      "photoUrl": "https://lh3.googleusercontent.com/a-/AOh14GiqWjqj-fgAoK0nCy76LRgMtuvVpQVpTCr_5iB4=s64",
      "userId": "17913700304635692485"
     },
     "user_tz": -360
    },
    "id": "0eeo67nm7gS3"
   },
   "outputs": [],
   "source": [
    "est_gen_2015 = global_power_plant_df.groupby('country_long')[['generation_gwh_2015']].sum().sort_values('generation_gwh_2015', ascending = False).head(20)\n",
    "est_gen_2015_UIA = est_gen_2015[est_gen_2015.index.isin(['United States of America', 'India', 'Australia'])]"
   ]
  },
  {
   "cell_type": "code",
   "execution_count": 79,
   "metadata": {
    "executionInfo": {
     "elapsed": 16566,
     "status": "ok",
     "timestamp": 1601706752726,
     "user": {
      "displayName": "Najmol Anwar",
      "photoUrl": "https://lh3.googleusercontent.com/a-/AOh14GiqWjqj-fgAoK0nCy76LRgMtuvVpQVpTCr_5iB4=s64",
      "userId": "17913700304635692485"
     },
     "user_tz": -360
    },
    "id": "MfzjAfR97gS4"
   },
   "outputs": [],
   "source": [
    "est_gen_2016 = global_power_plant_df.groupby('country_long')[['generation_gwh_2016']].sum().sort_values('generation_gwh_2016', ascending = False).head(20)\n",
    "est_gen_2016_UIA = est_gen_2016[est_gen_2016.index.isin(['United States of America', 'India', 'Australia'])]"
   ]
  },
  {
   "cell_type": "code",
   "execution_count": 80,
   "metadata": {
    "executionInfo": {
     "elapsed": 16562,
     "status": "ok",
     "timestamp": 1601706752726,
     "user": {
      "displayName": "Najmol Anwar",
      "photoUrl": "https://lh3.googleusercontent.com/a-/AOh14GiqWjqj-fgAoK0nCy76LRgMtuvVpQVpTCr_5iB4=s64",
      "userId": "17913700304635692485"
     },
     "user_tz": -360
    },
    "id": "wcBMwtgu7gS6"
   },
   "outputs": [],
   "source": [
    "est_gen_2017 = global_power_plant_df.groupby('country_long')[['generation_gwh_2017']].sum().sort_values('generation_gwh_2017', ascending = False).head(10)\n",
    "est_gen_2017_UIA = est_gen_2017[est_gen_2017.index.isin(['United States of America', 'India', 'Australia'])]\n"
   ]
  },
  {
   "cell_type": "code",
   "execution_count": 81,
   "metadata": {
    "colab": {
     "base_uri": "https://localhost:8080/",
     "height": 0
    },
    "executionInfo": {
     "elapsed": 16559,
     "status": "ok",
     "timestamp": 1601706752726,
     "user": {
      "displayName": "Najmol Anwar",
      "photoUrl": "https://lh3.googleusercontent.com/a-/AOh14GiqWjqj-fgAoK0nCy76LRgMtuvVpQVpTCr_5iB4=s64",
      "userId": "17913700304635692485"
     },
     "user_tz": -360
    },
    "id": "3IEzWry27gS7",
    "outputId": "4978cc57-2d1b-416b-cd48-03547f90d894"
   },
   "outputs": [
    {
     "data": {
      "image/png": "[encoded data removed]",
      "text/plain": [
       "<Figure size 864x576 with 1 Axes>"
      ]
     },
     "metadata": {
      "needs_background": "light",
      "tags": []
     },
     "output_type": "display_data"
    }
   ],
   "source": [
    "plt.bar(est_gen_2013_UIA.index, est_gen_2013_UIA.generation_gwh_2013)\n",
    "plt.bar(est_gen_2014_UIA.index, est_gen_2014_UIA.generation_gwh_2014, bottom = est_gen_2013_UIA.generation_gwh_2013);\n",
    "plt.bar(est_gen_2015_UIA.index, est_gen_2015_UIA.generation_gwh_2015, bottom = est_gen_2013_UIA.generation_gwh_2013 + est_gen_2014_UIA.generation_gwh_2014)\n",
    "plt.bar(est_gen_2016_UIA.index, est_gen_2016_UIA.generation_gwh_2016, bottom = est_gen_2013_UIA.generation_gwh_2013 + est_gen_2014_UIA.generation_gwh_2014 + est_gen_2015_UIA.generation_gwh_2015)\n",
    "plt.bar(est_gen_2017_UIA.index, est_gen_2017_UIA.generation_gwh_2017, bottom = est_gen_2013_UIA.generation_gwh_2013 + est_gen_2014_UIA.generation_gwh_2014 + est_gen_2015_UIA.generation_gwh_2015 + est_gen_2016_UIA.generation_gwh_2016)\n",
    "plt.legend(['Generation (GWH) in 2013', 'Generation (GWH) in 2014', 'Generation (GWH) in 2015', 'Generation (GWH) in 2016', 'Generation (GWH) in 2017'])\n",
    "plt.title('Generation in USA, India and Australia during 2013, 2014, 2015, 2015, 2017')\n",
    "plt.xlabel('Countries')\n",
    "plt.ylabel('Gigawatt hours (1e7 = 10000000)');"
   ]
  },
  {
   "cell_type": "markdown",
   "metadata": {
    "id": "gaQqn3t-7gS8"
   },
   "source": [
    "To make comparison more easier, stacked bar plot is used for each of the years.\n",
    "\n",
    "It is clearly seen that for every year the generating power is increase in every country."
   ]
  },
  {
   "cell_type": "markdown",
   "metadata": {
    "id": "ID6cNGpt7gS9"
   },
   "source": [
    "### Different type of primary fuel based power plant and their year of  going to the first operation."
   ]
  },
  {
   "cell_type": "code",
   "execution_count": 82,
   "metadata": {
    "colab": {
     "base_uri": "https://localhost:8080/",
     "height": 0
    },
    "executionInfo": {
     "elapsed": 16556,
     "status": "ok",
     "timestamp": 1601706752727,
     "user": {
      "displayName": "Najmol Anwar",
      "photoUrl": "https://lh3.googleusercontent.com/a-/AOh14GiqWjqj-fgAoK0nCy76LRgMtuvVpQVpTCr_5iB4=s64",
      "userId": "17913700304635692485"
     },
     "user_tz": -360
    },
    "id": "yPdYyqIt7gS9",
    "outputId": "ca557195-1586-4f18-e57a-1ec1dfede656"
   },
   "outputs": [
    {
     "data": {
      "image/png": "[encoded data removed]",
      "text/plain": [
       "<Figure size 864x576 with 1 Axes>"
      ]
     },
     "metadata": {
      "needs_background": "light",
      "tags": []
     },
     "output_type": "display_data"
    }
   ],
   "source": [
    "sns.scatterplot(x = global_power_plant_df.commissioning_year, y = global_power_plant_df.primary_fuel, s = 150);\n",
    "plt.title('Primary fuel and commission year');"
   ]
  },
  {
   "cell_type": "markdown",
   "metadata": {
    "id": "axyoLGch7gS-"
   },
   "source": [
    "It is clear that from the beginning, the hydro power plant is the most popular among the other plants, and every country continues to build this type of plant. In the 21st century, renewable energy-based power plants (e.g. solar, wind) became more popular on the other hand popularity of nuclear power plants declined. Because the world saw the devastating effects of the nuclear power plant during the Chernobyl and Fukushima Daiichi nuclear disasters."
   ]
  },
  {
   "cell_type": "markdown",
   "metadata": {
    "id": "8ijm2i_G7gS_"
   },
   "source": [
    "## Asking and Answering Questions"
   ]
  },
  {
   "cell_type": "markdown",
   "metadata": {
    "id": "TobUdN5E7gS_"
   },
   "source": [
    "### Q1: Which country have a larger number (top 30) of renewable energy power plant?"
   ]
  },
  {
   "cell_type": "markdown",
   "metadata": {
    "id": "oQr7olhb7gS_"
   },
   "source": [
    "Let find out what types of primary fuels power plants were used in the dataset  by using unique() method."
   ]
  },
  {
   "cell_type": "code",
   "execution_count": 83,
   "metadata": {
    "colab": {
     "base_uri": "https://localhost:8080/",
     "height": 0
    },
    "executionInfo": {
     "elapsed": 16552,
     "status": "ok",
     "timestamp": 1601706752727,
     "user": {
      "displayName": "Najmol Anwar",
      "photoUrl": "https://lh3.googleusercontent.com/a-/AOh14GiqWjqj-fgAoK0nCy76LRgMtuvVpQVpTCr_5iB4=s64",
      "userId": "17913700304635692485"
     },
     "user_tz": -360
    },
    "id": "MGgXAob37gS_",
    "outputId": "b1012fa4-dc94-48a9-a010-f45d9fe1ff2b"
   },
   "outputs": [
    {
     "data": {
      "text/plain": [
       "array(['Hydro', 'Gas', 'Other', 'Oil', 'Wind', 'Nuclear', 'Coal', 'Solar',\n",
       "       'Waste', 'Biomass', 'Wave and Tidal', 'Petcoke', 'Geothermal',\n",
       "       'Cogeneration', 'Storage'], dtype=object)"
      ]
     },
     "execution_count": 83,
     "metadata": {
      "tags": []
     },
     "output_type": "execute_result"
    }
   ],
   "source": [
    "global_power_plant_df.primary_fuel.unique()"
   ]
  },
  {
   "cell_type": "markdown",
   "metadata": {
    "id": "KE_QDEbQ7gTB"
   },
   "source": [
    "First we need to select the renewable or green energy based fuel from the list.\n",
    "\n",
    "Renewable energy:\n",
    "* Hydro\n",
    "* Wind\n",
    "* Solar\n",
    "* Waste\n",
    "* Biomass\n",
    "* Wave and Tidal\n",
    "* Geothermal Energy\n",
    "* Storage\n"
   ]
  },
  {
   "cell_type": "code",
   "execution_count": 84,
   "metadata": {
    "colab": {
     "base_uri": "https://localhost:8080/",
     "height": 0
    },
    "executionInfo": {
     "elapsed": 16549,
     "status": "ok",
     "timestamp": 1601706752728,
     "user": {
      "displayName": "Najmol Anwar",
      "photoUrl": "https://lh3.googleusercontent.com/a-/AOh14GiqWjqj-fgAoK0nCy76LRgMtuvVpQVpTCr_5iB4=s64",
      "userId": "17913700304635692485"
     },
     "user_tz": -360
    },
    "id": "9dPaILbU7gTB",
    "outputId": "17fdb821-7fcc-4868-ef60-fcf5328cf818"
   },
   "outputs": [
    {
     "data": {
      "text/plain": [
       "United States of America    5069\n",
       "United Kingdom              2126\n",
       "France                      1979\n",
       "China                       1908\n",
       "Brazil                      1561\n",
       "Canada                      1047\n",
       "Germany                      598\n",
       "India                        512\n",
       "Spain                        495\n",
       "Portugal                     432\n",
       "Czech Republic               430\n",
       "Norway                       301\n",
       "Japan                        206\n",
       "Vietnam                      181\n",
       "Australia                    168\n",
       "Italy                        166\n",
       "Mexico                       163\n",
       "Switzerland                  162\n",
       "Sweden                       160\n",
       "Chile                        155\n",
       "Finland                      146\n",
       "Russia                       131\n",
       "Thailand                     130\n",
       "Poland                       102\n",
       "Austria                      100\n",
       "South Africa                  73\n",
       "Uruguay                       66\n",
       "South Korea                   64\n",
       "Argentina                     64\n",
       "Philippines                   56\n",
       "Name: country_long, dtype: int64"
      ]
     },
     "execution_count": 84,
     "metadata": {
      "tags": []
     },
     "output_type": "execute_result"
    }
   ],
   "source": [
    "renewable_energy = global_power_plant_df[global_power_plant_df.primary_fuel.isin(['Hydro', 'Wind', 'Solar', 'Biomass', 'Wave and Tidal', 'Geothermal', 'Storage'])]\n",
    "number_of_renewable_energy = renewable_energy.country_long.value_counts().head(30)\n",
    "number_of_renewable_energy"
   ]
  },
  {
   "cell_type": "code",
   "execution_count": 85,
   "metadata": {
    "colab": {
     "base_uri": "https://localhost:8080/",
     "height": 0
    },
    "executionInfo": {
     "elapsed": 18728,
     "status": "ok",
     "timestamp": 1601706754910,
     "user": {
      "displayName": "Najmol Anwar",
      "photoUrl": "https://lh3.googleusercontent.com/a-/AOh14GiqWjqj-fgAoK0nCy76LRgMtuvVpQVpTCr_5iB4=s64",
      "userId": "17913700304635692485"
     },
     "user_tz": -360
    },
    "id": "BCe2KAAO7gTC",
    "outputId": "2b3898c5-d0ee-4f08-c855-5377c04915d3"
   },
   "outputs": [
    {
     "data": {
      "image/png": "[encoded data removed]",
      "text/plain": [
       "<Figure size 864x576 with 1 Axes>"
      ]
     },
     "metadata": {
      "needs_background": "light",
      "tags": []
     },
     "output_type": "display_data"
    }
   ],
   "source": [
    "sns.barplot(x = number_of_renewable_energy.index, y = number_of_renewable_energy)\n",
    "plt.xticks(rotation = 90)\n",
    "plt.title('Number of Renewable Energy Power Plant')\n",
    "plt.ylabel('Number of Plants')\n",
    "plt.xlabel('Countries');"
   ]
  },
  {
   "cell_type": "markdown",
   "metadata": {
    "id": "MRAzLUsr7gTE"
   },
   "source": [
    "The US has around 5000 renewable energy plants, which are about 2.5 times higher than the UK runner-up. It is shocking that China is ranked 3rd, but it was on the top list of countries with power capacity."
   ]
  },
  {
   "cell_type": "markdown",
   "metadata": {
    "id": "J4D2fSrY7gTE"
   },
   "source": [
    "### Q2: Which country has a heighest number (top 30) of fosil fuel energy power plant?"
   ]
  },
  {
   "cell_type": "markdown",
   "metadata": {
    "id": "CIZsq-lP7gTE"
   },
   "source": [
    "To answer this question first we need to select the fosil fuel type power plant from the primary_fuel column. \n",
    "\n",
    "Fosil fuels:\n",
    "* Gas\n",
    "* Oil\n",
    "* Cod\n",
    "* Nuclear\n",
    "* Petcoke\n",
    "\n",
    "I am considering nuclear power plant as a fosil fuel type. Because it is equally harmful to environment and human life in some measures.  "
   ]
  },
  {
   "cell_type": "code",
   "execution_count": 86,
   "metadata": {
    "colab": {
     "base_uri": "https://localhost:8080/",
     "height": 0
    },
    "executionInfo": {
     "elapsed": 18726,
     "status": "ok",
     "timestamp": 1601706754911,
     "user": {
      "displayName": "Najmol Anwar",
      "photoUrl": "https://lh3.googleusercontent.com/a-/AOh14GiqWjqj-fgAoK0nCy76LRgMtuvVpQVpTCr_5iB4=s64",
      "userId": "17913700304635692485"
     },
     "user_tz": -360
    },
    "id": "C5ZBmlRI7gTF",
    "outputId": "85a370bf-d793-4759-b8dd-ae74b1bcd1e4"
   },
   "outputs": [
    {
     "data": {
      "text/plain": [
       "United States of America    3033\n",
       "China                       1133\n",
       "Brazil                       766\n",
       "Russia                       372\n",
       "India                        349\n",
       "Germany                      307\n",
       "Australia                    210\n",
       "Argentina                    165\n",
       "Indonesia                    127\n",
       "Japan                        122\n",
       "Canada                       105\n",
       "Spain                        104\n",
       "Chile                         99\n",
       "United Kingdom                89\n",
       "Mexico                        88\n",
       "Poland                        87\n",
       "Saudi Arabia                  84\n",
       "Iran                          79\n",
       "Italy                         77\n",
       "South Korea                   60\n",
       "Bangladesh                    54\n",
       "Turkey                        48\n",
       "Philippines                   45\n",
       "Vietnam                       39\n",
       "France                        38\n",
       "Thailand                      38\n",
       "Egypt                         38\n",
       "Pakistan                      36\n",
       "Finland                       35\n",
       "Venezuela                     34\n",
       "Name: country_long, dtype: int64"
      ]
     },
     "execution_count": 86,
     "metadata": {
      "tags": []
     },
     "output_type": "execute_result"
    }
   ],
   "source": [
    "fosil_fuel = global_power_plant_df[global_power_plant_df.primary_fuel.isin(['Gas', 'Oil', 'Coal', 'Nuclear', 'Petcoke', 'Cogeneration'])]\n",
    "number_of_fosil_fuel_plant = fosil_fuel.country_long.value_counts().head(30)\n",
    "number_of_fosil_fuel_plant"
   ]
  },
  {
   "cell_type": "code",
   "execution_count": 87,
   "metadata": {
    "colab": {
     "base_uri": "https://localhost:8080/",
     "height": 0
    },
    "executionInfo": {
     "elapsed": 18723,
     "status": "ok",
     "timestamp": 1601706754911,
     "user": {
      "displayName": "Najmol Anwar",
      "photoUrl": "https://lh3.googleusercontent.com/a-/AOh14GiqWjqj-fgAoK0nCy76LRgMtuvVpQVpTCr_5iB4=s64",
      "userId": "17913700304635692485"
     },
     "user_tz": -360
    },
    "id": "UX-ccvgV7gTG",
    "outputId": "ec00f2c9-9f1a-4b60-c3d4-871acd7dd63a"
   },
   "outputs": [
    {
     "data": {
      "image/png": "[encoded data removed]",
      "text/plain": [
       "<Figure size 864x576 with 1 Axes>"
      ]
     },
     "metadata": {
      "needs_background": "light",
      "tags": []
     },
     "output_type": "display_data"
    }
   ],
   "source": [
    "sns.barplot(x = number_of_fosil_fuel_plant.index, y = number_of_fosil_fuel_plant)\n",
    "plt.xticks(rotation = 90)\n",
    "plt.title('Number of Fosil Fuel Based Power Plants')\n",
    "plt.ylabel('Number of Plants')\n",
    "plt.xlabel('Countries');"
   ]
  },
  {
   "cell_type": "markdown",
   "metadata": {
    "id": "wESuarHv7gTI"
   },
   "source": [
    "### Q3: How many power plant have negative generating power?"
   ]
  },
  {
   "cell_type": "markdown",
   "metadata": {
    "id": "kXHcbj167gTI"
   },
   "source": [
    "There are some power plants in the data set that has negative generating power. Because to run the power plant it need power but some time it becomes greather than the power that are produce by the power plant itself. So the overall net power become negative.\n",
    "\n",
    "In the dataset only United States of America has negative generating power. But in reality there are so many power plant around the world whose have negative generating power they just don't publishe the informatrion. So we will be caculated the total negative generating power in the USA from 2013 to 2017. "
   ]
  },
  {
   "cell_type": "code",
   "execution_count": 88,
   "metadata": {
    "executionInfo": {
     "elapsed": 18722,
     "status": "ok",
     "timestamp": 1601706754911,
     "user": {
      "displayName": "Najmol Anwar",
      "photoUrl": "https://lh3.googleusercontent.com/a-/AOh14GiqWjqj-fgAoK0nCy76LRgMtuvVpQVpTCr_5iB4=s64",
      "userId": "17913700304635692485"
     },
     "user_tz": -360
    },
    "id": "jLDZ2nlI7gTJ"
   },
   "outputs": [],
   "source": [
    "negative_power_plant = global_power_plant_df[global_power_plant_df.generation_gwh_2013 < 0]\n",
    "neg_gen_2013 = negative_power_plant.groupby('country_long')[['generation_gwh_2013']].sum().sort_values('generation_gwh_2013', ascending = False)\n",
    "\n",
    "negative_power_plant = global_power_plant_df[global_power_plant_df.generation_gwh_2014 < 0]\n",
    "neg_gen_2014 = negative_power_plant.groupby('country_long')[['generation_gwh_2014']].sum().sort_values('generation_gwh_2014', ascending = False)\n",
    "\n",
    "negative_power_plant = global_power_plant_df[global_power_plant_df.generation_gwh_2015 < 0]\n",
    "neg_gen_2015 = negative_power_plant.groupby('country_long')[['generation_gwh_2015']].sum().sort_values('generation_gwh_2015', ascending = False)\n",
    "\n",
    "negative_power_plant = global_power_plant_df[global_power_plant_df.generation_gwh_2016 < 0]\n",
    "neg_gen_2016 = negative_power_plant.groupby('country_long')[['generation_gwh_2016']].sum().sort_values('generation_gwh_2016', ascending = False)\n",
    "\n",
    "negative_power_plant = global_power_plant_df[global_power_plant_df.generation_gwh_2017 < 0]\n",
    "neg_gen_2017 = negative_power_plant.groupby('country_long')[['generation_gwh_2017']].sum().sort_values('generation_gwh_2017', ascending = False)\n"
   ]
  },
  {
   "cell_type": "code",
   "execution_count": 89,
   "metadata": {
    "colab": {
     "base_uri": "https://localhost:8080/",
     "height": 0
    },
    "executionInfo": {
     "elapsed": 18720,
     "status": "ok",
     "timestamp": 1601706754912,
     "user": {
      "displayName": "Najmol Anwar",
      "photoUrl": "https://lh3.googleusercontent.com/a-/AOh14GiqWjqj-fgAoK0nCy76LRgMtuvVpQVpTCr_5iB4=s64",
      "userId": "17913700304635692485"
     },
     "user_tz": -360
    },
    "id": "C83YahCV7gTK",
    "outputId": "ce6834d9-3c21-4987-92e6-27574cc168a4"
   },
   "outputs": [
    {
     "data": {
      "text/html": [
       "<div>\n",
       "<style scoped>\n",
       "    .dataframe tbody tr th:only-of-type {\n",
       "        vertical-align: middle;\n",
       "    }\n",
       "\n",
       "    .dataframe tbody tr th {\n",
       "        vertical-align: top;\n",
       "    }\n",
       "\n",
       "    .dataframe thead th {\n",
       "        text-align: right;\n",
       "    }\n",
       "</style>\n",
       "<table border=\"1\" class=\"dataframe\">\n",
       "  <thead>\n",
       "    <tr style=\"text-align: right;\">\n",
       "      <th>country_long</th>\n",
       "      <th>United States of America</th>\n",
       "    </tr>\n",
       "  </thead>\n",
       "  <tbody>\n",
       "    <tr>\n",
       "      <th>generation_gwh_2013</th>\n",
       "      <td>-5521.368000</td>\n",
       "    </tr>\n",
       "    <tr>\n",
       "      <th>generation_gwh_2014</th>\n",
       "      <td>-6621.096997</td>\n",
       "    </tr>\n",
       "    <tr>\n",
       "      <th>generation_gwh_2015</th>\n",
       "      <td>-6059.512959</td>\n",
       "    </tr>\n",
       "    <tr>\n",
       "      <th>generation_gwh_2016</th>\n",
       "      <td>-7302.330000</td>\n",
       "    </tr>\n",
       "    <tr>\n",
       "      <th>generation_gwh_2017</th>\n",
       "      <td>-6895.367005</td>\n",
       "    </tr>\n",
       "  </tbody>\n",
       "</table>\n",
       "</div>"
      ],
      "text/plain": [
       "country_long         United States of America\n",
       "generation_gwh_2013              -5521.368000\n",
       "generation_gwh_2014              -6621.096997\n",
       "generation_gwh_2015              -6059.512959\n",
       "generation_gwh_2016              -7302.330000\n",
       "generation_gwh_2017              -6895.367005"
      ]
     },
     "execution_count": 89,
     "metadata": {
      "tags": []
     },
     "output_type": "execute_result"
    }
   ],
   "source": [
    "negative_generation_2013_to_2017 = pd.DataFrame([neg_gen_2013.generation_gwh_2013, neg_gen_2014.generation_gwh_2014, neg_gen_2015.generation_gwh_2015, neg_gen_2016.generation_gwh_2016, neg_gen_2017.generation_gwh_2017])\n",
    "negative_generation_2013_to_2017"
   ]
  },
  {
   "cell_type": "code",
   "execution_count": 90,
   "metadata": {
    "colab": {
     "base_uri": "https://localhost:8080/",
     "height": 0
    },
    "executionInfo": {
     "elapsed": 18717,
     "status": "ok",
     "timestamp": 1601706754912,
     "user": {
      "displayName": "Najmol Anwar",
      "photoUrl": "https://lh3.googleusercontent.com/a-/AOh14GiqWjqj-fgAoK0nCy76LRgMtuvVpQVpTCr_5iB4=s64",
      "userId": "17913700304635692485"
     },
     "user_tz": -360
    },
    "id": "iXNMQqlt7gTM",
    "outputId": "df47b7e1-2473-404a-afaa-38ef45a9318c"
   },
   "outputs": [
    {
     "data": {
      "text/plain": [
       "country_long\n",
       "United States of America   -32399.674961\n",
       "dtype: float64"
      ]
     },
     "execution_count": 90,
     "metadata": {
      "tags": []
     },
     "output_type": "execute_result"
    }
   ],
   "source": [
    "negative_generation_2013_to_2017.sum()"
   ]
  },
  {
   "cell_type": "markdown",
   "metadata": {
    "id": "jWJXHxlv7gTN"
   },
   "source": [
    "### Q4: Which country has how many nuclear power plant? "
   ]
  },
  {
   "cell_type": "markdown",
   "metadata": {
    "id": "6vJP1Wad7gTO"
   },
   "source": [
    "Nuclear power plant is the most reliable compare to other because they need less maintenance and are equipped to run for longer periods before refueling. At the same time, high-level engineering is required to operate the plant safely. So for this reason, several countries in the world have authorisation to build a nuclear power plant.\n",
    "\n",
    "We will find out how many countries have a nuclear power plant by distinguishing countries that seem to have a nuclear power plant."
   ]
  },
  {
   "cell_type": "code",
   "execution_count": 91,
   "metadata": {
    "colab": {
     "base_uri": "https://localhost:8080/",
     "height": 0
    },
    "executionInfo": {
     "elapsed": 18714,
     "status": "ok",
     "timestamp": 1601706754913,
     "user": {
      "displayName": "Najmol Anwar",
      "photoUrl": "https://lh3.googleusercontent.com/a-/AOh14GiqWjqj-fgAoK0nCy76LRgMtuvVpQVpTCr_5iB4=s64",
      "userId": "17913700304635692485"
     },
     "user_tz": -360
    },
    "id": "2qOq828T7gTO",
    "outputId": "341e6fd1-e8d3-411d-89f1-0076ed8c0b80"
   },
   "outputs": [
    {
     "data": {
      "text/plain": [
       "United States of America    61\n",
       "France                      19\n",
       "Japan                       16\n",
       "China                       12\n",
       "Russia                      10\n",
       "India                        9\n",
       "United Kingdom               8\n",
       "Germany                      7\n",
       "Canada                       6\n",
       "South Korea                  6\n",
       "Spain                        5\n",
       "Switzerland                  4\n",
       "Ukraine                      4\n",
       "Sweden                       3\n",
       "Belgium                      3\n",
       "Taiwan                       3\n",
       "Argentina                    3\n",
       "Czech Republic               2\n",
       "Slovakia                     2\n",
       "Brazil                       2\n",
       "Finland                      2\n",
       "Pakistan                     2\n",
       "South Africa                 1\n",
       "Mexico                       1\n",
       "Iran                         1\n",
       "Netherlands                  1\n",
       "Slovenia                     1\n",
       "Armenia                      1\n",
       "Romania                      1\n",
       "Hungary                      1\n",
       "Bulgaria                     1\n",
       "Name: country_long, dtype: int64"
      ]
     },
     "execution_count": 91,
     "metadata": {
      "tags": []
     },
     "output_type": "execute_result"
    }
   ],
   "source": [
    "nuclear_plant = global_power_plant_df[global_power_plant_df.primary_fuel.isin(['Nuclear'])]\n",
    "number_of_nuclear_plant = nuclear_plant.country_long.value_counts().head(35)\n",
    "number_of_nuclear_plant"
   ]
  },
  {
   "cell_type": "code",
   "execution_count": 92,
   "metadata": {
    "colab": {
     "base_uri": "https://localhost:8080/",
     "height": 0
    },
    "executionInfo": {
     "elapsed": 18711,
     "status": "ok",
     "timestamp": 1601706754913,
     "user": {
      "displayName": "Najmol Anwar",
      "photoUrl": "https://lh3.googleusercontent.com/a-/AOh14GiqWjqj-fgAoK0nCy76LRgMtuvVpQVpTCr_5iB4=s64",
      "userId": "17913700304635692485"
     },
     "user_tz": -360
    },
    "id": "3a86P5DI7gTQ",
    "outputId": "3b5b23d2-e7e5-4d55-b1d9-e2e693792c82"
   },
   "outputs": [
    {
     "data": {
      "image/png": "[encoded data removed]",
      "text/plain": [
       "<Figure size 864x576 with 1 Axes>"
      ]
     },
     "metadata": {
      "needs_background": "light",
      "tags": []
     },
     "output_type": "display_data"
    }
   ],
   "source": [
    "sns.barplot(x = number_of_nuclear_plant.index, y = number_of_nuclear_plant)\n",
    "plt.xticks(rotation = 90)\n",
    "plt.title('Number of Nuclear Power Plants Around The World')\n",
    "plt.ylabel('Number of Plants')\n",
    "plt.xlabel('Countries');"
   ]
  },
  {
   "cell_type": "code",
   "execution_count": 93,
   "metadata": {
    "colab": {
     "base_uri": "https://localhost:8080/",
     "height": 0
    },
    "executionInfo": {
     "elapsed": 18708,
     "status": "ok",
     "timestamp": 1601706754913,
     "user": {
      "displayName": "Najmol Anwar",
      "photoUrl": "https://lh3.googleusercontent.com/a-/AOh14GiqWjqj-fgAoK0nCy76LRgMtuvVpQVpTCr_5iB4=s64",
      "userId": "17913700304635692485"
     },
     "user_tz": -360
    },
    "id": "APOmX2H27gTR",
    "outputId": "8bc8c512-8337-423d-d507-0aec2c6a47e9"
   },
   "outputs": [
    {
     "name": "stdout",
     "output_type": "stream",
     "text": [
      "There are 31 counties have total 198 nuclear power plants.\n"
     ]
    }
   ],
   "source": [
    "print('There are {} counties have total {} nuclear power plants.'.format(len(number_of_nuclear_plant), number_of_nuclear_plant.sum()))"
   ]
  },
  {
   "cell_type": "markdown",
   "metadata": {
    "id": "FXS8a3Og7gTS"
   },
   "source": [
    "### Q5: How many power plant Bangladesh (my country) has? What is the total capacity?  "
   ]
  },
  {
   "cell_type": "markdown",
   "metadata": {
    "id": "G3qrJLds7gTS"
   },
   "source": [
    "Bangladesgh is a country in South Asia. Bangladesh economy is a growing market economy. It has an outstanding growth and development track record. The power sector is also developing rapidly as it is crucial for development. Several power plant works are under construction. Bangladesh also has an ongoing project to build a nuclear power plant in Ruppur.\n",
    "\n",
    "From the data collection, we can see the current state of the power sector in Bangladesh."
   ]
  },
  {
   "cell_type": "code",
   "execution_count": 94,
   "metadata": {
    "executionInfo": {
     "elapsed": 18707,
     "status": "ok",
     "timestamp": 1601706754913,
     "user": {
      "displayName": "Najmol Anwar",
      "photoUrl": "https://lh3.googleusercontent.com/a-/AOh14GiqWjqj-fgAoK0nCy76LRgMtuvVpQVpTCr_5iB4=s64",
      "userId": "17913700304635692485"
     },
     "user_tz": -360
    },
    "id": "7xbSIxva7gTT"
   },
   "outputs": [],
   "source": [
    "bd_power_plant = global_power_plant_df[global_power_plant_df.country_long == 'Bangladesh']"
   ]
  },
  {
   "cell_type": "code",
   "execution_count": 95,
   "metadata": {
    "colab": {
     "base_uri": "https://localhost:8080/",
     "height": 0
    },
    "executionInfo": {
     "elapsed": 18704,
     "status": "ok",
     "timestamp": 1601706754914,
     "user": {
      "displayName": "Najmol Anwar",
      "photoUrl": "https://lh3.googleusercontent.com/a-/AOh14GiqWjqj-fgAoK0nCy76LRgMtuvVpQVpTCr_5iB4=s64",
      "userId": "17913700304635692485"
     },
     "user_tz": -360
    },
    "id": "Y7Ui2ySF7gTU",
    "outputId": "1dfc72a4-ae5f-4d12-8af3-136d480dc322"
   },
   "outputs": [
    {
     "data": {
      "text/plain": [
       "Bangladesh    55\n",
       "Name: country_long, dtype: int64"
      ]
     },
     "execution_count": 95,
     "metadata": {
      "tags": []
     },
     "output_type": "execute_result"
    }
   ],
   "source": [
    "total_power_plant = bd_power_plant.country_long.value_counts()\n",
    "total_power_plant"
   ]
  },
  {
   "cell_type": "markdown",
   "metadata": {
    "id": "cqkFHCYw7gTX"
   },
   "source": [
    "There are 55 (runing) power plant in Bangaldesh.\n",
    "\n",
    "Total capacity of generation power can also be caculated.  "
   ]
  },
  {
   "cell_type": "code",
   "execution_count": 96,
   "metadata": {
    "colab": {
     "base_uri": "https://localhost:8080/",
     "height": 0
    },
    "executionInfo": {
     "elapsed": 18700,
     "status": "ok",
     "timestamp": 1601706754914,
     "user": {
      "displayName": "Najmol Anwar",
      "photoUrl": "https://lh3.googleusercontent.com/a-/AOh14GiqWjqj-fgAoK0nCy76LRgMtuvVpQVpTCr_5iB4=s64",
      "userId": "17913700304635692485"
     },
     "user_tz": -360
    },
    "id": "I4bsMbHp7gTX",
    "outputId": "141873a3-89dd-45ad-ed99-e565e5765f4b"
   },
   "outputs": [
    {
     "name": "stdout",
     "output_type": "stream",
     "text": [
      "Bangladesh has total capacity of 11807.0 megawatt.\n"
     ]
    }
   ],
   "source": [
    "total_capacity = bd_power_plant.capacity_mw.sum()\n",
    "print('Bangladesh has total capacity of {} megawatt.'.format(total_capacity))"
   ]
  },
  {
   "cell_type": "code",
   "execution_count": 97,
   "metadata": {
    "colab": {
     "base_uri": "https://localhost:8080/",
     "height": 0
    },
    "executionInfo": {
     "elapsed": 18696,
     "status": "ok",
     "timestamp": 1601706754914,
     "user": {
      "displayName": "Najmol Anwar",
      "photoUrl": "https://lh3.googleusercontent.com/a-/AOh14GiqWjqj-fgAoK0nCy76LRgMtuvVpQVpTCr_5iB4=s64",
      "userId": "17913700304635692485"
     },
     "user_tz": -360
    },
    "id": "5sqc5dbp7gTY",
    "outputId": "e3eec50e-dc50-44ea-8b01-cde65917d985"
   },
   "outputs": [
    {
     "data": {
      "image/png": "[encoded data removed]",
      "text/plain": [
       "<Figure size 864x576 with 1 Axes>"
      ]
     },
     "metadata": {
      "needs_background": "light",
      "tags": []
     },
     "output_type": "display_data"
    }
   ],
   "source": [
    "sns.scatterplot(x = bd_power_plant.primary_fuel, y = bd_power_plant.capacity_mw, s = 150)\n",
    "plt.title('Type of power plant and their capacity');"
   ]
  },
  {
   "cell_type": "markdown",
   "metadata": {
    "id": "xHZVyWcL7gTa"
   },
   "source": [
    "Bangladesh's natural gas reserves amount to 14.16 trillion cubic feet. That is why Bangladesh has so many gas power plants with the highest capacity compared to others. There is only one renewable hydro power plant in Bangladesh.  "
   ]
  },
  {
   "cell_type": "markdown",
   "metadata": {
    "id": "-BpI3CXv7gTa"
   },
   "source": [
    "# Inferences and Conclusions"
   ]
  },
  {
   "cell_type": "markdown",
   "metadata": {
    "id": "HsO-8Msl7gTb"
   },
   "source": [
    "This analysis gives us an insight into the depth of power plants around the world. How the world produces one of the most important elements, as the country's economic and overall infrastructure depends on electricity.\n",
    "\n",
    "The world is facing global warming, and pollution from power plants is one of the reasons for this. We need to control pollution and urge on countries around the world to build more renewable or green energy power plants."
   ]
  },
  {
   "cell_type": "markdown",
   "metadata": {
    "id": "hllSIBdj7gTb"
   },
   "source": [
    "# References and Future Work"
   ]
  },
  {
   "cell_type": "markdown",
   "metadata": {
    "id": "swQ9y6q07gTb"
   },
   "source": [
    "There's a lot of knowledge to be found from the survey, and we've just scratched the surface. Here are some ideas for further investigation:\n",
    "* In the data frame there are column names for latitude, longitude and plant name, using the google maps API, we can generate geographical locations for each power plant.     \n",
    "* Choose a separate set of columns (we selected 16 out of 23) to evaluate other data facets.\n",
    "\n",
    "\n",
    "References:\n",
    "* Global Power Plant Database: https://datasets.wri.org/dataset/globalpowerplantdatabase  or https://www.kaggle.com/georgeputhean/globalpowerplantdata\n",
    "* Pandas user guide: https://pandas.pydata.org/docs/user_guide/index.html\n",
    "* Matplotlib user guide: https://matplotlib.org/3.3.1/users/index.html\n",
    "* Seaborn user guide & tutorial: https://seaborn.pydata.org/tutorial.html\n",
    "* Opendatasets Python library: https://github.com/JovianML/opendatasets\n",
    "\n"
   ]
  },
  {
   "cell_type": "code",
   "execution_count": 100,
   "metadata": {
    "executionInfo": {
     "elapsed": 1298,
     "status": "ok",
     "timestamp": 1601706880042,
     "user": {
      "displayName": "Najmol Anwar",
      "photoUrl": "https://lh3.googleusercontent.com/a-/AOh14GiqWjqj-fgAoK0nCy76LRgMtuvVpQVpTCr_5iB4=s64",
      "userId": "17913700304635692485"
     },
     "user_tz": -360
    },
    "id": "6xvtf01K7gTc"
   },
   "outputs": [],
   "source": [
    "import jovian"
   ]
  },
  {
   "cell_type": "code",
   "execution_count": 101,
   "metadata": {
    "colab": {
     "base_uri": "https://localhost:8080/",
     "height": 86
    },
    "executionInfo": {
     "elapsed": 3856,
     "status": "ok",
     "timestamp": 1601706884983,
     "user": {
      "displayName": "Najmol Anwar",
      "photoUrl": "https://lh3.googleusercontent.com/a-/AOh14GiqWjqj-fgAoK0nCy76LRgMtuvVpQVpTCr_5iB4=s64",
      "userId": "17913700304635692485"
     },
     "user_tz": -360
    },
    "id": "5vJupLNMGe0P",
    "outputId": "1c0f8f77-46ab-4e82-aa1f-842151a1297e"
   },
   "outputs": [
    {
     "name": "stdout",
     "output_type": "stream",
     "text": [
      "[jovian] Detected Colab notebook...\u001b[0m\n",
      "[jovian] Uploading colab notebook to Jovian...\u001b[0m\n",
      "[jovian] Committed successfully! https://jovian.ml/najmolanwar5/data-analysis-with-python-zero-to-pandas-course-project\u001b[0m\n"
     ]
    },
    {
     "data": {
      "application/vnd.google.colaboratory.intrinsic+json": {
       "type": "string"
      },
      "text/plain": [
       "'https://jovian.ml/najmolanwar5/data-analysis-with-python-zero-to-pandas-course-project'"
      ]
     },
     "execution_count": 101,
     "metadata": {
      "tags": []
     },
     "output_type": "execute_result"
    }
   ],
   "source": [
    "jovian.commit(project = 'data-analysis-with-python-zero-to-pandas-course-project')"
   ]
  },
  {
   "cell_type": "code",
   "execution_count": 99,
   "metadata": {
    "executionInfo": {
     "elapsed": 19368,
     "status": "ok",
     "timestamp": 1601706755595,
     "user": {
      "displayName": "Najmol Anwar",
      "photoUrl": "https://lh3.googleusercontent.com/a-/AOh14GiqWjqj-fgAoK0nCy76LRgMtuvVpQVpTCr_5iB4=s64",
      "userId": "17913700304635692485"
     },
     "user_tz": -360
    },
    "id": "wUjNOJzAHCdj"
   },
   "outputs": [],
   "source": []
  }
 ],
 "metadata": {
  "colab": {
   "name": "Data_Analysis_with_Python_Zero_to_Pandas_-_Course_Project.ipynb",
   "provenance": []
  },
  "kernelspec": {
   "display_name": "Python 3 (ipykernel)",
   "language": "python",
   "name": "python3"
  },
  "language_info": {
   "codemirror_mode": {
    "name": "ipython",
    "version": 3
   },
   "file_extension": ".py",
   "mimetype": "text/x-python",
   "name": "python",
   "nbconvert_exporter": "python",
   "pygments_lexer": "ipython3",
   "version": "3.9.7"
  }
 },
 "nbformat": 4,
 "nbformat_minor": 4
}
