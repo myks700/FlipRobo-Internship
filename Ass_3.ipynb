{
 "cells": [
  {
   "cell_type": "code",
   "execution_count": 1,
   "id": "dc05c13b-1dd4-4607-a9e8-b86296636d15",
   "metadata": {},
   "outputs": [],
   "source": [
    "import selenium\n",
    "import pandas as pd\n",
    "import numpy as np\n",
    "from selenium import webdriver\n",
    "from selenium.webdriver.common.by import By\n",
    "from selenium.common.exceptions import NoSuchElementException, StaleElementReferenceException\n",
    "import warnings\n",
    "warnings.filterwarnings('ignore')\n",
    "import time\n",
    "import requests"
   ]
  },
  {
   "cell_type": "code",
   "execution_count": 45,
   "id": "40e85b44-56cc-46c8-b6c8-db66ecc711dc",
   "metadata": {},
   "outputs": [],
   "source": [
    "driver = webdriver.Chrome(r'chromedriver.exe')\n",
    "driver.get('https://images.google.com/?gws_rd=ssl')\n",
    "search = driver.find_element(By.XPATH, '/html/body/div[1]/div[3]/form/div[1]/div[1]/div[1]/div/div[2]/input')\n",
    "search.send_keys('Machine Learning')\n",
    "btn = driver.find_element(By.XPATH, \"/html/body/div[1]/div[3]/form/div[1]/div[1]/div[1]/button/div/span\")\n",
    "btn.click()"
   ]
  },
  {
   "cell_type": "code",
   "execution_count": 47,
   "id": "df0a0e4f-1f4e-4a5c-9270-9289ff2d9161",
   "metadata": {},
   "outputs": [
    {
     "name": "stdout",
     "output_type": "stream",
     "text": [
      "Downloading 0 of 10 images\n",
      "Downloading 1 of 10 images\n",
      "Downloading 2 of 10 images\n",
      "Downloading 3 of 10 images\n",
      "Downloading 4 of 10 images\n",
      "Downloading 5 of 10 images\n",
      "Downloading 6 of 10 images\n",
      "Downloading 7 of 10 images\n",
      "Downloading 8 of 10 images\n",
      "Downloading 9 of 10 images\n",
      "Downloading 10 of 10 images\n"
     ]
    },
    {
     "ename": "NameError",
     "evalue": "name 'breakBy' is not defined",
     "output_type": "error",
     "traceback": [
      "\u001b[1;31m---------------------------------------------------------------------------\u001b[0m",
      "\u001b[1;31mNameError\u001b[0m                                 Traceback (most recent call last)",
      "\u001b[1;32mC:\\Users\\DATAMI~1\\AppData\\Local\\Temp/ipykernel_1952/645697326.py\u001b[0m in \u001b[0;36m<module>\u001b[1;34m\u001b[0m\n\u001b[0;32m     14\u001b[0m \u001b[1;32mfor\u001b[0m \u001b[0mi\u001b[0m \u001b[1;32min\u001b[0m \u001b[0mrange\u001b[0m\u001b[1;33m(\u001b[0m\u001b[0mlen\u001b[0m\u001b[1;33m(\u001b[0m\u001b[0mimage_url\u001b[0m\u001b[1;33m)\u001b[0m\u001b[1;33m)\u001b[0m\u001b[1;33m:\u001b[0m\u001b[1;33m\u001b[0m\u001b[1;33m\u001b[0m\u001b[0m\n\u001b[0;32m     15\u001b[0m     \u001b[1;32mif\u001b[0m \u001b[0mi\u001b[0m \u001b[1;33m>\u001b[0m \u001b[1;36m10\u001b[0m\u001b[1;33m:\u001b[0m\u001b[1;33m\u001b[0m\u001b[1;33m\u001b[0m\u001b[0m\n\u001b[1;32m---> 16\u001b[1;33m         \u001b[0mbreakBy\u001b[0m\u001b[1;33m.\u001b[0m\u001b[0mXPATH\u001b[0m\u001b[1;33m,\u001b[0m\u001b[1;33m\u001b[0m\u001b[1;33m\u001b[0m\u001b[0m\n\u001b[0m\u001b[0;32m     17\u001b[0m     \u001b[0mprint\u001b[0m\u001b[1;33m(\u001b[0m\u001b[1;34m\"Downloading {0} of {1} images\"\u001b[0m \u001b[1;33m.\u001b[0m\u001b[0mformat\u001b[0m\u001b[1;33m(\u001b[0m\u001b[0mi\u001b[0m\u001b[1;33m,\u001b[0m \u001b[1;36m10\u001b[0m\u001b[1;33m)\u001b[0m\u001b[1;33m)\u001b[0m\u001b[1;33m\u001b[0m\u001b[1;33m\u001b[0m\u001b[0m\n\u001b[0;32m     18\u001b[0m     \u001b[0mresponse\u001b[0m \u001b[1;33m=\u001b[0m \u001b[0mrequests\u001b[0m\u001b[1;33m.\u001b[0m\u001b[0mget\u001b[0m\u001b[1;33m(\u001b[0m\u001b[0mimage_url\u001b[0m\u001b[1;33m[\u001b[0m\u001b[0mi\u001b[0m\u001b[1;33m]\u001b[0m\u001b[1;33m)\u001b[0m\u001b[1;33m\u001b[0m\u001b[1;33m\u001b[0m\u001b[0m\n",
      "\u001b[1;31mNameError\u001b[0m: name 'breakBy' is not defined"
     ]
    }
   ],
   "source": [
    "for _ in range(20):\n",
    "    driver.execute_script(\"window.scrollBy(0,1000)\")\n",
    "    \n",
    "image = driver.find_elements(By.XPATH, '//img[@class=\"rg_i Q4LuWd\"]')\n",
    "\n",
    "image_url = []\n",
    "\n",
    "for img in image:\n",
    "    source = img.get_attribute('src')\n",
    "    if source is not None:\n",
    "         if (source[0:4] == 'http'):\n",
    "            image_url.append(source)\n",
    "\n",
    "for i in range(len(image_url)):\n",
    "    if i > 10:\n",
    "        breakBy.XPATH, \n",
    "    print(\"Downloading {0} of {1} images\" .format(i, 10))\n",
    "    response = requests.get(image_url[i])\n",
    "    file = open(r'D:\\FLipRobo/'+str(i)+'.jpg','wb')\n",
    "    file.write(response.content)\n"
   ]
  },
  {
   "cell_type": "markdown",
   "id": "f1d0d9e7-4422-4c9d-83b0-689316a69184",
   "metadata": {},
   "source": [
    "### \n",
    "Write a python program to search for a smartphone(e.g.: Oneplus Nord, pixel 4A, etc.) on www.flipkart.com and scrape following details for all the search results displayed on 1st page. Details to be scraped: “Brand Name”, “Smartphone name”, “Colour”, “RAM”, “Storage(ROM)”, “Primary Camera”, “Secondary Camera”, “Display Size”, “Battery Capacity”, “Price”, “Product URL”. Incase if any of the details is missing then replace it by “- “. Save your results in a dataframe and CSV."
   ]
  },
  {
   "cell_type": "code",
   "execution_count": 92,
   "id": "61af41e0-8124-493e-a8e8-41fabf2984ea",
   "metadata": {},
   "outputs": [],
   "source": [
    "driver = webdriver.Chrome(r'chromedriver.exe')\n",
    "driver.get('https://www.flipkart.com/search?q=samsung%20galaxy%20z&otracker=search&otracker1=search&marketplace=FLIPKART&as-show=on&as=off')\n"
   ]
  },
  {
   "cell_type": "code",
   "execution_count": 93,
   "id": "cef90e68-1853-4d49-8885-62cacd805654",
   "metadata": {},
   "outputs": [],
   "source": [
    "Brand = []\n",
    "smartphone_name = []\n",
    "colour = []\n",
    "ram = []\n",
    "rom = []\n",
    "primary_cam = []\n",
    "secondary_cam = []\n",
    "display_size = []\n",
    "battery_capacity = []\n",
    "price = []\n",
    "product_urls = []\n",
    "\n",
    "for page in range(0,1):\n",
    "    url = driver.find_elements(By.XPATH, '//a[@class=\"_1fQZEK\"]')\n",
    "    for i in url:\n",
    "        product_urls.append(i.get_attribute('href'))"
   ]
  },
  {
   "cell_type": "code",
   "execution_count": 104,
   "id": "8a79e567-fab6-4645-a278-310957ae1143",
   "metadata": {},
   "outputs": [
    {
     "data": {
      "text/plain": [
       "18"
      ]
     },
     "execution_count": 104,
     "metadata": {},
     "output_type": "execute_result"
    }
   ],
   "source": [
    "len(product_urls)"
   ]
  },
  {
   "cell_type": "code",
   "execution_count": 95,
   "id": "f815aaed-1339-4658-9524-2a6875b64caa",
   "metadata": {},
   "outputs": [],
   "source": [
    "\n",
    "for url in product_urls:\n",
    "    driver.get(url)\n",
    "    time.sleep(2)\n",
    "    \n",
    "    try:\n",
    "        \n",
    "        Price = driver.find_element(By.XPATH, '/html/body/div[1]/div/div[3]/div[1]/div[2]/div[2]/div/div[3]/div[1]/div/div')\n",
    "        price.append(Price.text)\n",
    "        brand = driver.find_element(By.XPATH, '/html/body/div[1]/div/div[3]/div[1]/div[2]/div[1]/div[1]/div/div[4]/a')\n",
    "        Brand.append(brand.text)\n",
    "        name = driver.find_element(By.XPATH, '/html/body/div[1]/div/div[3]/div[1]/div[2]/div[1]/div[1]/div/div[5]/div/div')\n",
    "        smartphone_name.append(name.text)\n",
    "        color = driver.find_element(By.XPATH, '/html/body/div[1]/div/div[3]/div[1]/div[2]/div[5]/div/div[2]/div[1]/div/ul/li[1]/a')\n",
    "        colour.append(color.text)\n",
    "        Rom = driver.find_element(By.XPATH, '/html/body/div[1]/div/div[3]/div[1]/div[2]/div[7]/div[1]/div/div[2]/ul/li[1]')\n",
    "        rom.append(Rom.text)\n",
    "       \n",
    "        P_cam = driver.find_element(By.XPATH, '/html/body/div[1]/div/div[3]/div[1]/div[2]/div[7]/div[1]/div/div[2]/ul/li[3]')\n",
    "        primary_cam.append(P_cam.text)\n",
    "        \n",
    "        \n",
    "    except NoSuchElementException:\n",
    "        Brand.append('_')"
   ]
  },
  {
   "cell_type": "code",
   "execution_count": null,
   "id": "5cdbc9de-c632-4fde-9bcc-ae9312dbc76b",
   "metadata": {},
   "outputs": [],
   "source": []
  },
  {
   "cell_type": "markdown",
   "id": "958ca691-46cd-4ad9-92e0-0360a1a1b4aa",
   "metadata": {},
   "source": [
    "### \n",
    "Write a program to scrap geospatial coordinates (latitude, longitude) of a city searched on google maps."
   ]
  },
  {
   "cell_type": "code",
   "execution_count": 50,
   "id": "ef5e618d-8ee9-43fa-a62c-ec34732440c9",
   "metadata": {},
   "outputs": [],
   "source": [
    "import re"
   ]
  },
  {
   "cell_type": "code",
   "execution_count": 57,
   "id": "0b7f2eb9-bf6f-4fcc-ba71-1a37175b9318",
   "metadata": {},
   "outputs": [
    {
     "name": "stdout",
     "output_type": "stream",
     "text": [
      "https://www.google.com/maps/place/Delhi/@28.6443981,76.8130408,10z/data=!3m1!4b1!4m5!3m4!1s0x390cfd5b347eb62d:0x37205b715389640!8m2!3d28.7040592!4d77.1024902\n"
     ]
    }
   ],
   "source": [
    "driver = webdriver.Chrome(r'chromedriver.exe')\n",
    "driver.get('https://www.google.com/maps/place/Delhi/@28.6443981,76.8130408,10z/data=!3m1!4b1!4m5!3m4!1s0x390cfd5b347eb62d:0x37205b715389640!8m2!3d28.7040592!4d77.1024902')\n",
    "\n",
    "url_string = driver.current_url\n",
    "print(url_string)\n",
    "lat_long = re.findall(r'@(.*)data', url_string)\n"
   ]
  },
  {
   "cell_type": "code",
   "execution_count": 58,
   "id": "cb336674-6251-4394-a389-5b8859984e70",
   "metadata": {},
   "outputs": [
    {
     "data": {
      "text/plain": [
       "['28.6443981,76.8130408,10z/']"
      ]
     },
     "execution_count": 58,
     "metadata": {},
     "output_type": "execute_result"
    }
   ],
   "source": [
    "lat_long"
   ]
  },
  {
   "cell_type": "code",
   "execution_count": null,
   "id": "42275d83-31ca-430a-b633-c2da98de8531",
   "metadata": {},
   "outputs": [],
   "source": []
  },
  {
   "cell_type": "markdown",
   "id": "4d9d2a62-2531-42a2-90e4-1e6335625de0",
   "metadata": {},
   "source": [
    "### \n",
    "Write a program to scrap all the available details of best gaming laptops from digit.in."
   ]
  },
  {
   "cell_type": "code",
   "execution_count": 59,
   "id": "eb1ba740-4706-4db7-b048-b32c48b7480c",
   "metadata": {},
   "outputs": [],
   "source": [
    "driver = webdriver.Chrome(r'chromedriver.exe')\n",
    "driver.get('https://www.digit.in/top-products/best-gaming-laptops-40.html')\n"
   ]
  },
  {
   "cell_type": "code",
   "execution_count": 70,
   "id": "5baec075-833c-4288-84cf-9983c508d7d0",
   "metadata": {},
   "outputs": [],
   "source": [
    "product_url = []\n",
    "\n",
    "for page in range(1):\n",
    "    url = driver.find_elements(By.XPATH, '//div[@class=\"left_side\"]/a')\n",
    "    \n",
    "    [product_url.append(i.get_attribute('href')) for i in url]"
   ]
  },
  {
   "cell_type": "code",
   "execution_count": 99,
   "id": "8c54b235-1118-48c2-afd8-1e7461fd4179",
   "metadata": {},
   "outputs": [
    {
     "data": {
      "text/plain": [
       "10"
      ]
     },
     "execution_count": 99,
     "metadata": {},
     "output_type": "execute_result"
    }
   ],
   "source": [
    "len(product_url)"
   ]
  },
  {
   "cell_type": "code",
   "execution_count": 108,
   "id": "aa17bf64-9c91-45e0-88d1-d74e8ae367c1",
   "metadata": {},
   "outputs": [],
   "source": [
    "Name = []\n",
    "Model = []\n",
    "Window = []\n",
    "Display = []\n",
    "Processor = []\n",
    "Memory = []\n",
    "\n",
    "for url in product_url:\n",
    "    driver.get(url)\n",
    "    time.sleep(2)\n",
    "    \n",
    "    try:\n",
    "        name = driver.find_element(By.XPATH, '/html/body/div[3]/div[2]/div[2]/h1') \n",
    "        Name.append(name.text)\n",
    "        model = driver.find_element(By.XPATH, '/html/body/div[3]/div[2]/div[7]/div/div[1]/div[1]/table/tbody/tr[1]/td[3]')\n",
    "        Model.append(model.text)\n",
    "        window = driver.find_element(By.XPATH, '/html/body/div[3]/div[2]/div[3]/div[2]/div[3]/div/ul/li[1]/div/p[2]/strong')\n",
    "        Window.append(window.text)\n",
    "        display = driver.find_element(By.XPATH, '/html/body/div[3]/div[2]/div[3]/div[2]/div[3]/div/ul/li[2]/div/p[2]/strong')\n",
    "        Display.append(display.text)\n",
    "        processor = driver.find_element(By.XPATH, '/html/body/div[3]/div[2]/div[3]/div[2]/div[3]/div/ul/li[3]/div/p[2]/strong')\n",
    "        Processor.append(processor.text)\n",
    "        memory = driver.find_element(By.XPATH, '/html/body/div[3]/div[2]/div[3]/div[2]/div[3]/div/ul/li[4]/div/p[2]/strong')\n",
    "        Memory.append(memory.text)\n",
    "    except NoSuchElementException:\n",
    "        Brand.append('_')\n",
    "    "
   ]
  },
  {
   "cell_type": "code",
   "execution_count": 116,
   "id": "05aaf8f8-67d2-48ca-bb37-a69cc8b15562",
   "metadata": {},
   "outputs": [
    {
     "data": {
      "text/plain": [
       "['Titan GT77', 'Nitro 5', 'Delta 15']"
      ]
     },
     "execution_count": 116,
     "metadata": {},
     "output_type": "execute_result"
    }
   ],
   "source": [
    "Model"
   ]
  },
  {
   "cell_type": "code",
   "execution_count": null,
   "id": "9e60881b-3547-444a-af34-dd9259708b17",
   "metadata": {},
   "outputs": [],
   "source": []
  }
 ],
 "metadata": {
  "kernelspec": {
   "display_name": "Python 3 (ipykernel)",
   "language": "python",
   "name": "python3"
  },
  "language_info": {
   "codemirror_mode": {
    "name": "ipython",
    "version": 3
   },
   "file_extension": ".py",
   "mimetype": "text/x-python",
   "name": "python",
   "nbconvert_exporter": "python",
   "pygments_lexer": "ipython3",
   "version": "3.9.7"
  }
 },
 "nbformat": 4,
 "nbformat_minor": 5
}
